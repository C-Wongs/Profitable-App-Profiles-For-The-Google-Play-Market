{
 "cells": [
  {
   "cell_type": "markdown",
   "metadata": {
    "collapsed": true
   },
   "source": [
    "Profitable App Profiles for Google Play Markets\n",
    "\n",
    "The aim of this project is to identify what app profiles are the most profitable in the Google Play markets, enabling developers to make better data driven decisions on what apps to develop. \n",
    "\n",
    "The goal is to help developers who want to make FREE apps find a direction to what app type to build to maximize in-app purchases\n",
    "\n",
    "To simplify the process, I will be using a sample of 10,000 Android Apps.\n",
    "\n",
    "Android - https://www.kaggle.com/lava18/google-play-store-apps\n",
    "\n",
    "STEPS INCLUDED IN THIS PROJECT \n",
    "\n",
    "DATA CLEANING\n",
    "1. Removed inaccurate/missing data\n",
    "2. Removed duplicate app entries\n",
    "3. Removed non-english apps\n",
    "4. Isolated the free apps\n",
    "\n",
    "DATA ANALYSIS\n",
    "1. Frequency table (app genre overview)\n",
    "2. Installs overview\n",
    "3. Filtering apps that skew averages\n",
    "4. Explore photography apps\n",
    "5. Recommendation\n",
    "\n",
    "\n"
   ]
  },
  {
   "cell_type": "markdown",
   "metadata": {},
   "source": [
    "Defined an explore_data function that allows us to print a sliced dataset and show how many columns and rows are present. "
   ]
  },
  {
   "cell_type": "code",
   "execution_count": 100,
   "metadata": {},
   "outputs": [],
   "source": [
    "def explore_data(dataset, start, end, rows_and_columns=False): \n",
    "    dataset_slice = dataset[start:end]\n",
    "    for row in dataset_slice: \n",
    "        print(row)\n",
    "        print('\\n') # this adds a new empty line after each row\n",
    "    if rows_and_columns: \n",
    "        print('Number of rows:', len(dataset))\n",
    "        print('Number of columns: ', len(dataset[0]))\n",
    "        "
   ]
  },
  {
   "cell_type": "markdown",
   "metadata": {},
   "source": [
    "Opening the two datasets"
   ]
  },
  {
   "cell_type": "code",
   "execution_count": 101,
   "metadata": {},
   "outputs": [],
   "source": [
    "from csv import reader\n",
    "\n",
    "\n",
    "#Google Play Data\n",
    "opened_file = open('googleplaystore.csv')\n",
    "read_file = reader(opened_file)\n",
    "android = list(read_file)\n",
    "android_header = android[0]\n",
    "android = android[1:]\n"
   ]
  },
  {
   "cell_type": "markdown",
   "metadata": {},
   "source": [
    "Testing the explore_data() function\n",
    "Also making notes on which categories will be the best one to use for analysis"
   ]
  },
  {
   "cell_type": "code",
   "execution_count": 102,
   "metadata": {},
   "outputs": [
    {
     "name": "stdout",
     "output_type": "stream",
     "text": [
      "ANDROID \n",
      " ['App', 'Category', 'Rating', 'Reviews', 'Size', 'Installs', 'Type', 'Price', 'Content Rating', 'Genres', 'Last Updated', 'Current Ver', 'Android Ver'] \n",
      "\n",
      "['Photo Editor & Candy Camera & Grid & ScrapBook', 'ART_AND_DESIGN', '4.1', '159', '19M', '10,000+', 'Free', '0', 'Everyone', 'Art & Design', 'January 7, 2018', '1.0.0', '4.0.3 and up']\n",
      "\n",
      "\n",
      "['Coloring book moana', 'ART_AND_DESIGN', '3.9', '967', '14M', '500,000+', 'Free', '0', 'Everyone', 'Art & Design;Pretend Play', 'January 15, 2018', '2.0.0', '4.0.3 and up']\n",
      "\n",
      "\n",
      "['U Launcher Lite – FREE Live Cool Themes, Hide Apps', 'ART_AND_DESIGN', '4.7', '87510', '8.7M', '5,000,000+', 'Free', '0', 'Everyone', 'Art & Design', 'August 1, 2018', '1.2.4', '4.0.3 and up']\n",
      "\n",
      "\n",
      "['Sketch - Draw & Paint', 'ART_AND_DESIGN', '4.5', '215644', '25M', '50,000,000+', 'Free', '0', 'Teen', 'Art & Design', 'June 8, 2018', 'Varies with device', '4.2 and up']\n",
      "\n",
      "\n",
      "['Pixel Draw - Number Art Coloring Book', 'ART_AND_DESIGN', '4.3', '967', '2.8M', '100,000+', 'Free', '0', 'Everyone', 'Art & Design;Creativity', 'June 20, 2018', '1.1', '4.4 and up']\n",
      "\n",
      "\n",
      "Number of rows: 10841\n",
      "Number of columns:  13\n",
      "None \n",
      "\n"
     ]
    }
   ],
   "source": [
    "print ('ANDROID \\n', android_header, '\\n')\n",
    "print (explore_data(android,0,5,True), '\\n')"
   ]
  },
  {
   "cell_type": "markdown",
   "metadata": {},
   "source": [
    "START DATA CLEANING PROCESS\n",
    "\n",
    "rows with missing data"
   ]
  },
  {
   "cell_type": "code",
   "execution_count": 103,
   "metadata": {},
   "outputs": [
    {
     "name": "stdout",
     "output_type": "stream",
     "text": [
      "['Life Made WI-Fi Touchscreen Photo Frame', '1.9', '19', '3.0M', '1,000+', 'Free', '0', 'Everyone', '', 'February 11, 2018', '1.0.19', '4.0 and up']\n",
      "10472\n"
     ]
    }
   ],
   "source": [
    "for row in android:\n",
    "    header_length = len(android_header)\n",
    "    rowlength = len(row) \n",
    "    if rowlength != header_length:\n",
    "        print(row)\n",
    "        print(android.index(row))"
   ]
  },
  {
   "cell_type": "code",
   "execution_count": 104,
   "metadata": {},
   "outputs": [
    {
     "name": "stdout",
     "output_type": "stream",
     "text": [
      "10841\n",
      "10840\n"
     ]
    }
   ],
   "source": [
    "# Deleting said row\n",
    "print (len(android))\n",
    "del android[10472]\n",
    "print (len(android))"
   ]
  },
  {
   "cell_type": "markdown",
   "metadata": {},
   "source": [
    "Looking for duplicates \n",
    "\n"
   ]
  },
  {
   "cell_type": "code",
   "execution_count": 105,
   "metadata": {},
   "outputs": [
    {
     "name": "stdout",
     "output_type": "stream",
     "text": [
      "number of duplicate apps:  1181\n",
      "\n",
      "\n",
      "Examples of duplicate apps: ['Quick PDF Scanner + OCR FREE', 'Box', 'Google My Business', 'ZOOM Cloud Meetings', 'join.me - Simple Meetings']\n"
     ]
    }
   ],
   "source": [
    "\n",
    "duplicate_apps = [] \n",
    "unique_apps = []\n",
    "\n",
    "for x in android: \n",
    "    name = x[0]\n",
    "    if name in unique_apps:\n",
    "        duplicate_apps.append(name)\n",
    "    else: \n",
    "        unique_apps.append(name)\n",
    "print('number of duplicate apps: ', len(duplicate_apps))\n",
    "print('\\n')\n",
    "print('Examples of duplicate apps:', duplicate_apps[:5])"
   ]
  },
  {
   "cell_type": "markdown",
   "metadata": {},
   "source": [
    "After Determining that there are 1181 duplicate apps, we investigate further as to why"
   ]
  },
  {
   "cell_type": "code",
   "execution_count": 106,
   "metadata": {},
   "outputs": [
    {
     "name": "stdout",
     "output_type": "stream",
     "text": [
      "['Coloring book moana', 'Mcqueen Coloring pages', 'UNICORN - Color By Number & Pixel Art Coloring', 'Textgram - write on photos', 'Wattpad 📖 Free Books', 'Amazon Kindle', 'Dictionary - Merriam-Webster', 'NOOK: Read eBooks & Magazines', 'Oxford Dictionary of English : Free', 'Spanish English Translator', 'NOOK App for NOOK Devices', 'Ebook Reader', 'English Dictionary - Offline', 'Docs To Go™ Free Office Suite', 'Google My Business', 'OfficeSuite : Free Office + PDF Editor', 'Curriculum vitae App CV Builder Free Resume Maker', 'Facebook Pages Manager', 'Box', 'Call Blocker', 'ZOOM Cloud Meetings', 'Facebook Ads Manager', 'Quick PDF Scanner + OCR FREE', 'SignEasy | Sign and Fill PDF and other Documents', 'Quick PDF Scanner + OCR FREE', 'Genius Scan - PDF Scanner', 'Tiny Scanner - PDF Scanner App', 'Fast Scanner : Free PDF Scan', 'Mobile Doc Scanner (MDScan) Lite', 'TurboScan: scan documents and receipts in PDF', 'Tiny Scanner Pro: PDF Doc Scan', 'Box', 'Zenefits', 'Google Ads', 'Google My Business', 'Slack', 'FreshBooks Classic', 'Insightly CRM', 'QuickBooks Accounting: Invoicing & Expenses', 'HipChat - Chat Built for Teams', 'Xero Accounting Software', 'MailChimp - Email, Marketing Automation', 'Crew - Free Messaging and Scheduling', 'Asana: organize team projects', 'Google Analytics', 'AdWords Express', 'Accounting App - Zoho Books', 'Invoice & Time Tracking - Zoho', 'join.me - Simple Meetings', 'Invoice 2go — Professional Invoices and Estimates', 'ZOOM Cloud Meetings', 'join.me - Simple Meetings', 'Box', 'Zenefits', 'Google Ads', 'Google My Business', 'Slack', 'FreshBooks Classic', 'Insightly CRM', 'QuickBooks Accounting: Invoicing & Expenses', 'HipChat - Chat Built for Teams', 'Xero Accounting Software', 'MailChimp - Email, Marketing Automation', 'Crew - Free Messaging and Scheduling', 'Asana: organize team projects', 'Google Analytics', 'AdWords Express', 'Accounting App - Zoho Books', 'Invoice & Time Tracking - Zoho', 'join.me - Simple Meetings', 'Invoice 2go — Professional Invoices and Estimates', 'SignEasy | Sign and Fill PDF and other Documents', 'Quick PDF Scanner + OCR FREE', 'Genius Scan - PDF Scanner', 'Tiny Scanner - PDF Scanner App', 'Fast Scanner : Free PDF Scan', 'Mobile Doc Scanner (MDScan) Lite', 'TurboScan: scan documents and receipts in PDF', 'Tiny Scanner Pro: PDF Doc Scan', 'Docs To Go™ Free Office Suite', 'OfficeSuite : Free Office + PDF Editor', 'Slack', 'QuickBooks Accounting: Invoicing & Expenses', 'LINE WEBTOON - Free Comics', 'Daily Manga - Comic & Webtoon', 'DC Comics', 'Manga AZ - Manga Comic Reader', 'Messenger – Text and Video Chat for Free', 'WhatsApp Messenger', 'Google Chrome: Fast & Secure', 'Messenger Lite: Free Calls & Messages', 'Gmail', 'Hangouts', 'Viber Messenger', 'Firefox Browser fast & private', 'Yahoo Mail – Stay Organized', 'imo beta free calls and text', 'imo free video calls and chat', 'Opera Mini - fast web browser', 'Opera Browser: Fast and Secure', 'Firefox Focus: The privacy browser', 'Google Voice', 'Chrome Dev', 'Who', 'WeChat', 'UC Browser Mini -Tiny Fast Private & Secure', 'WhatsApp Business', 'Android Messages', 'Telegram', 'Google Duo - High Quality Video Calls', 'Puffin Web Browser', 'UC Browser - Fast Download Private & Secure', 'Microsoft Edge', 'WhatsApp Messenger', 'Messenger – Text and Video Chat for Free', 'imo free video calls and chat', 'Hangouts Dialer - Call Phones', 'Viber Messenger', 'Hangouts', 'Talkatone: Free Texts, Calls & Phone Number', 'Calls & Text by Mo+', 'free video calls and chat', 'WeChat', 'Skype - free IM & video calls', 'Telegram', 'Who', 'Google Voice', 'Android Messages', 'Glide - Video Chat Messenger', 'Google Allo', 'Talkray - Free Calls & Texts', 'LINE: Free Calls & Messages', 'BBM - Free Calls & Messages', 'KakaoTalk: Free Calls & Text', 'Firefox Focus: The privacy browser', 'Google Allo', 'Google Chrome: Fast & Secure', 'Firefox Browser fast & private', 'CM Browser - Ad Blocker , Fast Download , Privacy', 'Puffin Web Browser', 'Opera Browser: Fast and Secure', 'Opera Mini - fast web browser', 'UC Browser Mini -Tiny Fast Private & Secure', 'UC Browser - Fast Download Private & Secure', 'Web Browser for Android', 'DU Browser—Browse fast & fun', 'Calls & Text by Mo+', 'Viber Messenger', 'Call Blocker', 'CallApp: Caller ID, Blocker & Phone Call Recorder', 'Whoscall - Caller ID & Block', 'Truecaller: Caller ID, SMS spam blocking & Dialer', 'Gmail', 'Yahoo Mail – Stay Organized', 'Hangouts', 'imo free video calls and chat', 'free video calls and chat', 'Viber Messenger', 'Skype - free IM & video calls', 'WeChat', 'Glide - Video Chat Messenger', 'Talkray - Free Calls & Texts', 'LINE: Free Calls & Messages', 'KakaoTalk: Free Calls & Text', 'Moco+ - Chat, Meet People', 'Calculator', 'Zoosk Dating App: Meet Singles', 'OkCupid Dating', 'Hily: Dating, Chat, Match, Meet & Hook up', 'Hinge: Dating & Relationships', 'Casual Dating & Adult Singles - Joyride', 'BBW Dating & Plus Size Chat', 'Moco - Chat, Meet People', 'CMB Free Dating App', 'Hot or Not - Find someone right now', 'Chispa, the Dating App for Latino, Latina Singles', 'Clover Dating App', 'Black People Meet Singles Date', 'stranger chat - anonymous chat', 'Blendr - Chat, Flirt & Meet', 'Free Dating Hook Up Messenger', 'Find Real Love — YouLove Premium Dating', 'Once - Quality Matches Every day', 'Cougar Dating Life : Date Older Women Sugar Mummy', 'Howlr', 'Free Dating & Flirt Chat - Choice of Love', 'FastMeet: Chat, Dating, Love', 'Free Dating App - YoCutie - Flirt, Chat & Meet', 'FarmersOnly Dating', 'Dating for 50 plus Mature Singles – FINALLY', 'Sudy – Meet Elite & Rich Single', 'Christian Dating For Free App', 'Just She - Top Lesbian Dating', 'EliteSingles – Dating for Single Professionals', 'Millionaire Match: Rich Singles Dating App', 'Hide App, Private Dating, Safe Chat - PrivacyHider', 'muzmatch: Muslim & Arab Singles, Marriage & Dating', 'Adult Dirty Emojis', 'Free Dating App - Meet Local Singles - Flirt Chat', 'Meet4U - Chat, Love, Singles!', 'Chat Rooms, Avatars, Date - Galaxy', 'Gay Sugar Daddy Dating & Hookup – Sudy Gay', 'Meet24 - Love, Chat, Singles', 'Black White Interracial Dating - Interracial Match', 'FlirtChat - ♥Free Dating/Flirting App♥', 'OkCupid Dating', 'CMB Free Dating App', 'Hily: Dating, Chat, Match, Meet & Hook up', 'Hinge: Dating & Relationships', 'BBW Dating & Plus Size Chat', 'Casual Dating & Adult Singles - Joyride', 'EliteSingles – Dating for Single Professionals', 'Clover Dating App', 'Moco - Chat, Meet People', 'Hot or Not - Find someone right now', 'Just She - Top Lesbian Dating', 'Once - Quality Matches Every day', 'Sudy – Meet Elite & Rich Single', 'muzmatch: Muslim & Arab Singles, Marriage & Dating', '95Live -SG#1 Live Streaming App', 'Chispa, the Dating App for Latino, Latina Singles', 'Blendr - Chat, Flirt & Meet', 'Find Real Love — YouLove Premium Dating', 'Cougar Dating Life : Date Older Women Sugar Mummy', 'stranger chat - anonymous chat', 'Millionaire Match: Rich Singles Dating App', 'Dating for 50 plus Mature Singles – FINALLY', 'Moco+ - Chat, Meet People', 'Chat Rooms, Avatars, Date - Galaxy', 'FastMeet: Chat, Dating, Love', 'Christian Dating For Free App', 'Meet24 - Love, Chat, Singles', 'Black White Interracial Dating - Interracial Match', 'Gay Sugar Daddy Dating & Hookup – Sudy Gay', 'Adult Dirty Emojis', 'BBW Dating & Curvy Singles Chat- LargeFriends', 'Hide App, Private Dating, Safe Chat - PrivacyHider', 'Meet4U - Chat, Love, Singles!', 'iPair-Meet, Chat, Dating', 'Transenger – Ts Dating and Chat for Free', 'O-Star', 'Free Cam Girls - Live Webcam', 'Cardi B Live Stream Video Chat - Prank', 'Live Girls Talk - Free Video Chat', 'Live Talk - Free Text and Video Chat', 'Chat Kids - Chat Room For Kids', 'Girls Live Chat - Free Text & Video Chat', 'Random Video Chat', 'MouseMingle', 'Random Video Chat App With Strangers', '95Live -SG#1 Live Streaming App', 'Just She - Top Lesbian Dating', 'Hily: Dating, Chat, Match, Meet & Hook up', 'O-Star', 'Random Video Chat', 'Black People Meet Singles Date', 'Howlr', 'Free Dating & Flirt Chat - Choice of Love', 'Cardi B Live Stream Video Chat - Prank', 'Chat Kids - Chat Room For Kids', 'muzmatch: Muslim & Arab Singles, Marriage & Dating', 'BBW Dating & Plus Size Chat', 'Transenger – Ts Dating and Chat for Free', 'BBW Dating & Curvy Singles Chat- LargeFriends', 'MouseMingle', 'FlirtChat - ♥Free Dating/Flirting App♥', 'Live Talk - Free Text and Video Chat', 'Adult Dirty Emojis', 'Free Cam Girls - Live Webcam', 'Random Video Chat App With Strangers', 'Live Girls Talk - Free Video Chat', 'Girls Live Chat - Free Text & Video Chat', 'Free Dating App - Meet Local Singles - Flirt Chat', 'iPair-Meet, Chat, Dating', 'Free Dating Hook Up Messenger', 'Free Dating App - YoCutie - Flirt, Chat & Meet', 'Duolingo: Learn Languages Free', 'TED', 'Khan Academy', 'Learn English with Wlingua', 'Princess Coloring Book', 'English Grammar Test', 'PBS KIDS Video', 'Babbel – Learn Languages', 'Monster Truck Driver & Racing', \"Game for KIDS: KIDS match'em\", 'Lumosity: #1 Brain Games & Cognitive Training App', 'Learn languages, grammar & vocabulary with Memrise', 'Khan Academy', 'TED', 'Quizlet: Learn Languages & Vocab with Flashcards', 'Udemy - Online Courses', 'Coursera: Online courses', 'edX - Online Courses by Harvard, MIT & more', 'Lumosity: #1 Brain Games & Cognitive Training App', 'Peak – Brain Games & Training', 'Lynda - Online Training Videos', 'Brilliant', 'CppDroid - C/C++ IDE', 'C Programming', 'Udacity - Lifelong Learning', 'Udemy - Online Courses', 'Learn C++', 'Socratic - Math Answers & Homework Help', 'Khan Academy', 'TED', 'Duolingo: Learn Languages Free', 'Quizlet: Learn Languages & Vocab with Flashcards', 'Coursera: Online courses', 'Udemy - Online Courses', 'Udacity - Lifelong Learning', 'edX - Online Courses by Harvard, MIT & more', 'Rosetta Stone: Learn to Speak & Read New Languages', 'Google Classroom', 'Lynda - Online Training Videos', 'Learn languages, grammar & vocabulary with Memrise', 'Brilliant', 'Babbel – Learn Languages', 'Duolingo: Learn Languages Free', 'Learn 50 languages', 'Rosetta Stone: Learn to Speak & Read New Languages', 'Mango Languages: Lovable Language Courses', 'Learn languages, grammar & vocabulary with Memrise', 'Learn English with Wlingua', 'busuu: Learn Languages - Spanish, English & More', 'My Class Schedule: Timetable', 'Quizlet: Learn Languages & Vocab with Flashcards', 'Edmodo', 'Google Classroom', 'ClassDojo', 'Duolingo: Learn Languages Free', 'Learn 50 languages', 'HelloTalk — Chat, Speak & Learn Foreign Languages', 'Mango Languages: Lovable Language Courses', 'Rosetta Stone: Learn to Speak & Read New Languages', 'Learn languages, grammar & vocabulary with Memrise', 'Babbel – Learn Languages', 'busuu: Learn Languages - Spanish, English & More', 'My Class Schedule: Timetable', 'Socratic - Math Answers & Homework Help', 'Google Classroom', 'ClassDojo', 'HelloTalk — Chat, Speak & Learn Foreign Languages', 'Quizlet: Learn Languages & Vocab with Flashcards', 'busuu: Learn Languages - Spanish, English & More', 'Rosetta Stone: Learn to Speak & Read New Languages', 'Fuzzy Numbers: Pre-K Number Foundation', 'Toca Life: City', 'Netflix', 'Tubi TV - Free Movies & TV', 'YouTube Kids', 'Google Play Games', 'H TV', 'Viki: Asian TV Dramas & Movies', 'No.Draw - Colors by Number 2018', 'Movies by Flixster, with Rotten Tomatoes', 'IMDb Movies & TV', 'Twitch: Livestream Multiplayer Games & Esports', 'YouTube Gaming', 'Talking Ben the Dog', 'Red Bull TV: Live Sports, Music & Entertainment', 'Movies by Flixster, with Rotten Tomatoes', 'Fandango Movies - Times + Tickets', 'IMDb Movies & TV', 'Netflix', 'Food Network', 'Crunchyroll - Everything Anime', 'Crackle - Free TV & Movies', 'CBS - Full Episodes & Live TV', 'STARZ', 'HISTORY: Watch TV Show Full Episodes & Specials', 'Nick', 'VH1', 'FOX NOW - On Demand & Live TV', 'A&E - Watch Full Episodes of TV Shows', 'The CW', 'BET NOW - Watch Shows', 'Hulu: Stream TV, Movies & more', 'HBO NOW: Stream TV & Movies', 'Univision NOW - Live TV and On Demand', 'SHOWTIME', 'Lifetime - Watch Full Episodes & Original Movies', 'Comedy Central', 'IMDb Movies & TV', 'Netflix', 'Tubi TV - Free Movies & TV', 'Crunchyroll - Everything Anime', 'STARZ', 'Crackle - Free TV & Movies', 'CBS - Full Episodes & Live TV', 'Nick', 'Hulu: Stream TV, Movies & more', 'FOX NOW - On Demand & Live TV', 'The CW', 'CW Seed', 'The NBC App - Watch Live TV and Full Episodes', 'HISTORY: Watch TV Show Full Episodes & Specials', 'HBO NOW: Stream TV & Movies', 'WWE', 'A&E - Watch Full Episodes of TV Shows', 'VH1', 'MTV', 'Lifetime - Watch Full Episodes & Original Movies', 'BET NOW - Watch Shows', 'LEGO® TV', 'HBO GO: Stream with TV Package', 'Showtime Anytime', 'PlayKids - Educational cartoons and games for kids', 'FOX', 'Telemundo Now', 'Netflix', 'Tubi TV - Free Movies & TV', 'Crackle - Free TV & Movies', 'Crunchyroll - Everything Anime', 'Nick', 'STARZ', 'Hulu: Stream TV, Movies & more', 'Food Network', 'FOX NOW - On Demand & Live TV', 'Movies by Flixster, with Rotten Tomatoes', 'HISTORY: Watch TV Show Full Episodes & Specials', 'Viki: Asian TV Dramas & Movies', 'The CW', 'Univision NOW - Live TV and On Demand', 'HBO NOW: Stream TV & Movies', 'A&E - Watch Full Episodes of TV Shows', 'VH1', 'SHOWTIME', 'MTV', 'Lifetime - Watch Full Episodes & Original Movies', 'Comedy Central', 'BET NOW - Watch Shows', 'FOX', 'Telemundo Now', 'Viki: Asian TV Dramas & Movies', 'Nick', 'Fandango Movies - Times + Tickets', 'Colorfy: Coloring Book for Adults - Free', 'K PLUS', 'Wells Fargo Mobile', 'Credit Karma', 'BZWBK24 mobile', 'PayPal', 'Capital One® Mobile', 'Google Pay', 'Robinhood - Investing, No Fees', 'Wells Fargo Daily Change', 'Digit Save Money Automatically', 'Acorns - Invest Spare Change', 'Google Pay', 'Money Lover: Expense Tracker, Budget Planner', 'Wells Fargo Daily Change', 'Simple - Better Banking', 'Credit Karma', 'Mint: Budget, Bills, Finance', 'CNBC: Breaking Business News & Live Market Data', 'E*TRADE Mobile', 'Robinhood - Investing, No Fees', 'Digit Save Money Automatically', 'Acorns - Invest Spare Change', 'Moneycontrol – Stocks, Sensex, Mutual Funds, IPO', 'Money Lover: Expense Tracker, Budget Planner', 'Mint: Budget, Bills, Finance', 'Simple - Better Banking', 'PayPal', 'Google Pay', 'Wells Fargo Mobile', 'Capital One® Mobile', \"McDonald's\", \"Dunkin' Donuts\", 'Grubhub: Food Delivery', 'Panera Bread', 'Chick-fil-A', 'Starbucks', \"Domino's Pizza USA\", 'SONIC Drive-In', 'SUBWAY®', 'Dairy Queen', 'Wendy’s – Food and Offers', 'Postmates Food Delivery: Order Eats & Alcohol', 'Zomato - Restaurant Finder and Food Delivery App', 'Grubhub: Food Delivery', 'Postmates Food Delivery: Order Eats & Alcohol', \"Domino's Pizza USA\", 'BeyondMenu Food Delivery', 'Chick-fil-A', 'Zomato - Restaurant Finder and Food Delivery App', 'Home Workout - No Equipment', 'Six Pack in 30 Days - Abs Workout', 'Walk with Map My Walk', 'Runtastic Running App & Mile Tracker', 'Nike+ Run Club', 'Calorie Counter - MyFitnessPal', 'Weight Watchers Mobile', 'Endomondo - Running & Walking', 'Runkeeper - GPS Track Run Walk', '8fit Workouts & Meal Planner', 'Run with Map My Run', 'Weight Loss Running by Verv', 'Workout Trainer: fitness coach', 'Fabulous: Motivate Me! Meditate, Relax, Sleep', 'Run with Map My Run', 'Nike Training Club - Workouts & Fitness Plans', 'Fitbit Coach', 'Weight Loss Running by Verv', 'Nike+ Run Club', 'Runtastic Running App & Mile Tracker', '8fit Workouts & Meal Planner', 'Seven - 7 Minute Workout Training Challenge', 'Daily Yoga - Yoga Fitness Plans', 'Pocket Yoga', 'Relax Meditation: Sleep with Sleep Sounds', 'Meditation Music - Relax, Yoga', '21-Day Meditation Experience', 'Calm - Meditate, Sleep, Relax', 'Relax Melodies: Sleep Sounds', 'Simple Habit Meditation', 'Headspace: Meditation & Mindfulness', 'Daily Yoga - Yoga Fitness Plans', 'Pocket Yoga', 'I’m Expecting - Pregnancy App', 'Period Tracker', 'Calorie Counter - MyFitnessPal', 'Weight Loss Running by Verv', 'Nike+ Run Club', 'Seven - 7 Minute Workout Training Challenge', 'Weight Watchers Mobile', 'Walk with Map My Walk', 'Workout Trainer: fitness coach', 'Run with Map My Run', 'Nike Training Club - Workouts & Fitness Plans', 'Fitbit Coach', 'Calorie Counter - MyFitnessPal', 'Endomondo - Running & Walking', 'Runkeeper - GPS Track Run Walk', 'Nike+ Run Club', 'Lose It! - Calorie Counter', 'Runtastic Running App & Mile Tracker', 'Calorie Counter - MyNetDiary', '10 Best Foods for You', 'MyPlate Calorie Tracker', 'My Diet Diary Calorie Counter', 'Calorie Counter - Macros', 'Calorie Counter by FatSecret', 'Weight Loss Tracker - RecStyle', 'Lark - 24/7 Health Coach', 'MealLogger-Photo Food Journal', 'Health and Nutrition Guide', 'Calorie Counter & Diet Tracker', 'Food Calorie Calculator', 'Calorie Counter - MyFitnessPal', 'Lose It! - Calorie Counter', 'Calorie Counter - MyNetDiary', '10 Best Foods for You', 'MyPlate Calorie Tracker', 'Weight Loss Tracker - RecStyle', 'Calorie Counter by FatSecret', 'Calorie Counter - Macros', 'My Diet Diary Calorie Counter', 'Lark - 24/7 Health Coach', 'Weight Watchers Mobile', 'Calorie Counter & Diet Tracker', 'MealLogger-Photo Food Journal', 'Health and Nutrition Guide', 'Food Calorie Calculator', 'Calorie Counter - MyFitnessPal', 'Lose It! - Calorie Counter', 'Relax Meditation: Sleep with Sleep Sounds', 'Meditation Music - Relax, Yoga', '21-Day Meditation Experience', 'Fabulous: Motivate Me! Meditate, Relax, Sleep', 'Calm - Meditate, Sleep, Relax', 'Runtastic Sleep Better: Sleep Cycle & Smart Alarm', 'Relax Melodies: Sleep Sounds', 'Simple Habit Meditation', 'Headspace: Meditation & Mindfulness', 'Daily Yoga - Yoga Fitness Plans', 'Zillow: Find Houses for Sale & Apartments for Rent', 'Apartments & Rentals - Zillow', 'Realtor.com Real Estate: Homes for Sale and Rent', 'Trulia Real Estate & Rentals', 'Houzz Interior Design Ideas', 'Apartment List: Housing, Apt, and Property Rentals', 'Trulia Rent Apartments & Homes', 'Redfin Real Estate', 'realestate.com.au - Buy, Rent & Sell Property', 'Mortgage by Zillow: Calculator & Rates', 'Home Security Camera WardenCam - reuse old phones', 'Apartments.com Rental Search', 'Ruler', 'Houzz Interior Design Ideas', 'Mortgage by Zillow: Calculator & Rates', 'Redfin Real Estate', 'Apartment List: Housing, Apt, and Property Rentals', 'Realtor.com Real Estate: Homes for Sale and Rent', 'Trulia Real Estate & Rentals', 'Zillow: Find Houses for Sale & Apartments for Rent', 'Apartments & Rentals - Zillow', 'Trulia Rent Apartments & Homes', 'Apartments.com Rental Search', 'Houzz Interior Design Ideas', 'Cardboard', 'Diary with lock', 'H&M', 'JOANN - Crafts & Coupons', 'Vaniday - Beauty Booking App', 'Fashion in Vogue', 'StyleSeat', 'Vaniday - Beauty Booking App', 'StyleSeat', 'Brit + Co', 'JOANN - Crafts & Coupons', 'Wheretoget: Shop in style', 'My Dressing - Fashion closet', 'Chictopia', 'Scarf Fashion Designer', 'Fashion in Vogue', 'Zara', 'Wheretoget: Shop in style', 'My Dressing - Fashion closet', 'Chictopia', 'Scarf Fashion Designer', 'Fashion in Vogue', 'Zara', 'ROBLOX', 'Subway Surfers', 'Candy Crush Saga', 'Solitaire', 'Bubble Shooter', 'Hello Kitty Nail Salon', 'slither.io', 'Clash Royale', 'Temple Run 2', 'Pou', 'Helix Jump', 'Block Puzzle', 'Angry Birds Rio', 'Plants vs. Zombies FREE', 'Sonic Dash', 'Candy Crush Soda Saga', 'Zombie Hunter King', 'Clash of Clans', 'Kick the Buddy', 'Block Puzzle Classic Legend !', 'PAC-MAN', 'Super Jim Jump - pixel 3d', '8 Ball Pool', 'Magic Tiles 3', 'Word Search', 'Granny', 'Angry Birds Classic', 'Flow Free', 'Fishdom', 'Galaxy Attack: Alien Shooter', 'Zombie Tsunami', 'Bubble Shooter 2', 'Barbie™ Fashion Closet', 'Candy Crush Jelly Saga', 'Hill Climb Racing', 'Gardenscapes', 'Zombie Catchers', 'Minion Rush: Despicable Me Official Game', 'Farm Heroes Saga', 'Geometry Dash World', 'My Talking Angela', 'Cut the Rope FULL FREE', 'Sniper 3D Gun Shooter: Free Shooting Games - FPS', 'Subway Surfers', 'ROBLOX', 'Pou', '8 Ball Pool', 'Clash of Clans', 'Candy Crush Saga', 'Plants vs. Zombies FREE', 'Cooking Fever', 'Toon Blast', 'Score! Hero', 'My Talking Angela', 'Bubble Shooter', 'Toy Blast', 'Miraculous Ladybug & Cat Noir - The Official Game', 'Wordscapes', 'Word Search', 'Candy Crush Soda Saga', 'Fishdom', 'Garena Free Fire', 'Block Puzzle', 'Bowmasters', 'Clash Royale', 'My Talking Tom', 'Sniper 3D Gun Shooter: Free Shooting Games - FPS', 'Granny', 'Galaxy Attack: Alien Shooter', 'Angry Birds Rio', 'Zombie Catchers', 'Zombie Hunter King', 'Temple Run 2', 'Zombie Tsunami', 'Rider', 'Farm Heroes Saga', 'Super Jim Jump - pixel 3d', 'slither.io', 'Talking Tom Gold Run', 'Pixel Art: Color by Number Game', 'Dream League Soccer 2018', 'Angry Birds Classic', 'Fruits Bomb', 'Traffic Racer', 'Hill Climb Racing 2', 'Flow Free', 'Knife Hit', 'Block Craft 3D: Building Simulator Games For Free', 'ROBLOX', 'Helix Jump', 'Subway Surfers', 'Candy Crush Saga', 'Toon Blast', 'Love Balls', 'Granny', '8 Ball Pool', 'Sniper 3D Gun Shooter: Free Shooting Games - FPS', 'slither.io', 'Hungry Shark Evolution', 'Temple Run 2', 'Kick the Buddy', 'Magic Tiles 3', 'Bowmasters', 'Pokémon GO', 'Wordscapes', 'Color by Number – New Coloring Book', 'Block Craft 3D: Building Simulator Games For Free', 'PUBG MOBILE', 'Episode - Choose Your Story', 'Run Sausage Run!', 'Castle Clash: Heroes of the Empire US', 'Helix Jump', 'PUBG MOBILE', 'Wordscapes', 'Last Day on Earth: Survival', 'MARVEL Strike Force', 'Harry Potter: Hogwarts Mystery', 'DRAGON BALL LEGENDS', 'Homescapes', 'Merge Dragons!', 'RULES OF SURVIVAL', 'Final Fantasy XV: A New Empire', 'Honkai Impact 3rd', 'The Game of Life', 'DRAGON BALL LEGENDS', 'ROBLOX', 'Candy Crush Saga', 'Angry Birds 2', '8 Ball Pool', 'Fallout Shelter', 'Harry Potter: Hogwarts Mystery', 'PUBG MOBILE', 'The Sims™ FreePlay', 'MARVEL Strike Force', 'Best Fiends - Free Puzzle Game', 'MARVEL Contest of Champions', 'Jurassic World™ Alive', 'Choices: Stories You Play', 'Merge Dragons!', 'Idle Heroes', 'Honkai Impact 3rd', 'Dungeon Hunter Champions: Epic Online Action RPG', 'Candy Crush Saga', 'ROBLOX', '8 Ball Pool', 'Subway Surfers', 'Candy Crush Soda Saga', 'Zombie Hunter King', 'Bubble Shooter', 'Toon Blast', 'Toy Blast', 'Clash Royale', 'Clash of Clans', 'Farm Heroes Saga', 'Plants vs. Zombies FREE', 'Word Search', 'Block Puzzle', 'Super Jim Jump - pixel 3d', 'Pou', 'Temple Run 2', 'Flow Free', 'Homescapes', 'Wordscapes', 'My Talking Angela', 'slither.io', 'Cooking Fever', 'Gardenscapes', 'Fishdom', 'Galaxy Attack: Alien Shooter', 'Score! Hero', 'Zombie Catchers', 'Magic Tiles 3', 'Jewels Star: OZ adventure', 'Granny', 'Dream League Soccer 2018', 'Fruits Bomb', 'Angry Birds Classic', 'Talking Tom Gold Run', 'Bowmasters', 'My Talking Tom', 'Hill Climb Racing', 'Sniper 3D Gun Shooter: Free Shooting Games - FPS', 'Pixel Art: Color by Number Game', 'Rider', 'Zombie Tsunami', 'Garena Free Fire', 'Subway Surfers', 'Helix Jump', 'Crossy Road', 'Temple Run 2', 'slither.io', 'Bowmasters', 'Talking Tom Gold Run', 'Zombie Catchers', 'Sniper 3D Gun Shooter: Free Shooting Games - FPS', 'Swamp Attack', 'Earn to Die 2', 'Miraculous Ladybug & Cat Noir - The Official Game', 'Kick the Buddy', 'Hungry Shark World', 'Dude Perfect 2', 'Shadow Fight 2', \"Alto's Adventure\", 'DEER HUNTER 2018', 'DRAGON BALL LEGENDS', 'DEAD TARGET: FPS Zombie Apocalypse Survival Games', 'Anger of stick 5 : zombie', 'DINO HUNTER: DEADLY SHORES', 'Strawberry Shortcake BerryRush', 'Agar.io', 'Zombie Hunter King', 'Garena Free Fire', 'DC Super Hero Girls™', 'Metal Soldiers 2', 'Candy Crush Saga', 'Plants vs. Zombies FREE', 'Block Puzzle', 'Helix Jump', '8 Ball Pool', 'Bubble Shooter', 'Solitaire', 'Traffic Racer', 'Hill Climb Racing', 'Earn to Die 2', 'Bubble Shooter 2', 'Candy Bomb', 'Flow Free', 'Zombie Catchers', 'Angry Birds Rio', 'Candy Crush Jelly Saga', 'Cut the Rope FULL FREE', 'Jewels Star: OZ adventure', 'Hungry Shark Evolution', 'Angry Birds Classic', 'Best Fiends - Free Puzzle Game', 'Hill Climb Racing 2', 'Swamp Attack', 'Bowmasters', 'Magic Tiles 3', 'Block Puzzle Classic Legend !', 'Pixel Art: Color by Number Game', 'Score! Hero', 'Jetpack Joyride', 'Zombie Tsunami', 'DEAD TARGET: FPS Zombie Apocalypse Survival Games', 'Word Search', 'Farm Heroes Saga', 'Racing in Car 2', 'Dog Run - Pet Dog Simulator', 'YouTube Kids', 'Candy Bomb', 'ROBLOX', 'Super ABC! Learning games for kids! Preschool apps', 'Solitaire', 'Princess Coloring Book', 'Hello Kitty Nail Salon', 'Dog Run - Pet Dog Simulator', 'Coloring book moana', 'Baby Panda Care', 'Toca Kitchen 2', 'PJ Masks: Moonlight Heroes', 'Bubble Shooter', 'Barbie™ Fashion Closet', 'Minion Rush: Despicable Me Official Game', 'Farming Simulator 14', 'No.Draw - Colors by Number 2018', 'Duolingo: Learn Languages Free', 'Hot Wheels: Race Off', 'Strawberry Shortcake Ice Cream Island', 'DisneyNOW – TV Shows & Games', 'Papumba Academy - Fun Learning For Kids', 'Super ABC! Learning games for kids! Preschool apps', 'Thomas & Friends: Race On!', 'School of Dragons', 'ROBLOX', 'PJ Masks: Moonlight Heroes', 'Minion Rush: Despicable Me Official Game', 'Dog Run - Pet Dog Simulator', 'Hot Wheels: Race Off', 'Farming Simulator 14', 'LEGO® Juniors Create & Cruise', 'Plants vs. Zombies™ Heroes', 'Mcqueen Coloring pages', 'Monster Truck Driver & Racing', 'Strawberry Shortcake BerryRush', 'Disney Magic Kingdoms: Build Your Own Magical Park', 'Turbo FAST', 'My Little Pony: Harmony Quest', 'Equestria Girls', 'DC Super Hero Girls™', 'Toca Kitchen 2', 'DC Super Hero Girls™', 'Strawberry Shortcake BerryRush', 'Inside Out Thought Bubbles', 'Disney Magic Kingdoms: Build Your Own Magical Park', 'Monster High™', 'Frozen Free Fall', 'Shopkins World!', 'Masha and the Bear Child Games', 'Toca Life: City', 'Chess Free', 'Kids Balloon Pop Game Free 🎈', 'Sounds for Toddlers FREE', 'Elmo Calls by Sesame Street', 'Sago Mini Friends', 'Papumba Academy - Fun Learning For Kids', 'Tee and Mo Bath Time Free', 'Bita and the Animals - Pelos Ares', 'TO-FU Oh!SUSHI', 'DreamWorks Friends', 'Avokiddo Emotions', 'Nighty Night Circus', 'Sago Mini Babies', \"Dr. Panda & Toto's Treehouse\", 'Kids Balloon Pop Game Free 🎈', 'Sounds for Toddlers FREE', 'Elmo Calls by Sesame Street', 'Sago Mini Friends', 'Papumba Academy - Fun Learning For Kids', 'Tee and Mo Bath Time Free', 'Bita and the Animals - Pelos Ares', 'TO-FU Oh!SUSHI', 'DreamWorks Friends', 'Avokiddo Emotions', 'Nighty Night Circus', 'Sago Mini Babies', \"Dr. Panda & Toto's Treehouse\", 'ROBLOX', 'PlayKids - Educational cartoons and games for kids', 'YouTube Kids', 'Fun Kid Racing - Motocross', 'Baby Panda Care', 'Monster High™', 'Duolingo: Learn Languages Free', \"COOKING MAMA Let's Cook!\", 'Shopkins World!', 'DisneyNOW – TV Shows & Games', 'Equestria Girls', 'Frozen Free Fall', 'Nick', 'Thomas & Friends: Race On!', 'Inside Out Thought Bubbles', 'My Little Pony Celebration', 'Sago Mini Friends', 'School of Dragons', 'Animal Jam - Play Wild!', 'Video Editor', 'Real Racing 3', 'Peak – Brain Games & Training', 'Minecraft', 'Monash Uni Low FODMAP Diet', 'iBP Blood Pressure', 'Pedi STAT', 'ASCCP Mobile', 'Journal Club: Medicine', 'Paramedic Protocol Provider', 'Medical ID - In Case of Emergency (ICE)', 'Human Anatomy Atlas 2018: Complete 3D Human Body', 'Essential Anatomy 3', 'Vargo Anesthesia Mega App', 'EMT Review Plus', '2017 EMRA Antibiotic Guide', 'IBM Micromedex Drug Info', 'Diabetes & Diet Tracker', 'Block Buddy', 'EMT PASS', 'Cardiac diagnosis (heart rate, arrhythmia)', 'AnatomyMapp', 'Blood Pressure Companion', 'Muscle Premium - Human Anatomy, Kinesiology, Bones', 'Advanced Comprehension Therapy', 'EMT Tutor NREMT-B Study Guide', 'Hospitalist Handbook', 'PTA Content Master', 'A Manual of Acupuncture', 'Teladoc Member', 'Blood Pressure', 'Ovia Fertility Tracker & Ovulation Calculator', 'Anthem Anywhere', 'Youper - AI Therapy', '1800 Contacts - Lens Store', 'Blood Pressure Log - MyDiary', \"fred's Pharmacy\", 'Ada - Your Health Guide', 'mySugr: the blood sugar tracker made just for you', 'All Mental disorders', 'ScriptSave WellRx Rx Discounts', 'MoodSpace', 'Period Tracker', 'Super Hearing Super Ear Amplifier', 'Free Blood Pressure', 'Banfield Pet Health Tracker', 'Nurse Grid', 'Vargo Anesthesia Mega App', 'Monash Uni Low FODMAP Diet', 'mySugr: the blood sugar tracker made just for you', 'EMT-B Pocket Prep', 'Human Anatomy Atlas 2018: Complete 3D Human Body', 'Diabetes:M', 'ASCCP Mobile', 'FP Notebook', 'Paramedic Protocol Provider', '2017 EMRA Antibiotic Guide', 'Essential Anatomy 3', 'EMT PASS', 'Block Buddy', 'EMT Review Plus', 'Journal Club: Medicine', 'Pedi STAT', 'AnatomyMapp', 'Diabetes & Diet Tracker', 'A Manual of Acupuncture', 'PTA Content Master', 'Muscle Premium - Human Anatomy, Kinesiology, Bones', 'Cardiac diagnosis (heart rate, arrhythmia)', 'PMHNP-BC Pocket Prep', 'Medical ID - In Case of Emergency (ICE)', 'IBM Micromedex Drug Info', 'Advanced Comprehension Therapy', 'Hospitalist Handbook', 'JH Blood Pressure Monitor', 'Sway Medical', 'Penn State Health OnDemand', 'Breastfeeding Tracker Baby Log', 'RT 516 VET', 'Maricopa AH', 'CT Scan Cross Sectional Anatomy', 'Teladoc Member', 'Anthem BC Anywhere', 'Ada - Your Health Guide', 'Ovia Fertility Tracker & Ovulation Calculator', 'Youper - AI Therapy', 'MoodSpace', 'Super Hearing Super Ear Amplifier', 'Penn State Health OnDemand', 'ScriptSave WellRx Rx Discounts', 'Free Blood Pressure', 'All Mental disorders', 'Nurse Grid', 'High Blood Pressure Symptoms', 'Blood Pressure(BP) Diary', 'JH Blood Pressure Monitor', 'Blood Pressure', 'AAFP', 'RT 516 VET', 'Anthem Anywhere', 'Sway Medical', 'Airway Ex - Intubate. Anesthetize. Train.', \"fred's Pharmacy\", '420 BZ Budeze Delivery', 'Blood Pressure Monitor', 'BP Journal - Blood Pressure Diary', 'Breastfeeding Tracker Baby Log', 'Banfield Pet Health Tracker', '1800 Contacts - Lens Store', 'Facebook', 'Instagram', 'Facebook Lite', 'Messages, Text and Video Chat for Messenger', 'Tumblr', 'All Social Networks', 'Snapchat', 'Pinterest', 'TextNow - free text + calls', 'Google+', 'Telegram X', 'Who Viewed My Facebook Profile - Stalkers Visitors', 'LiveMe - Video chat, new friends, and make money', 'Amino: Communities and Chats', 'Phone Tracker : Family Locator', 'Periscope - Live Video', 'Quora', 'LinkedIn', 'Meetup', 'Text Free: WiFi Calling App', 'TextNow - free text + calls', 'Badoo - Free Chat & Dating App', 'Text free - Free Text + Call', 'textPlus: Free Text & Calls', 'Free phone calls, free texting SMS on free number', 'Tango - Live Video Broadcast', 'MeetMe: Chat & Meet New People', 'Tagged - Meet, Chat & Dating', 'ooVoo Video Calls, Messaging & Stories', 'SayHi Chat, Meet New People', 'Tapatalk - 100,000+ Forums', 'Tumblr', 'Snapchat', 'Instagram', 'Periscope - Live Video', 'Snapchat', 'Instagram', 'Pinterest', 'Nextdoor - Local neighborhood news & classifieds', 'SKOUT - Meet, Chat, Go Live', 'We Heart It', 'MeetMe: Chat & Meet New People', 'ooVoo Video Calls, Messaging & Stories', 'LinkedIn', 'Tango - Live Video Broadcast', 'SayHi Chat, Meet New People', 'Tapatalk - 100,000+ Forums', 'Couple - Relationship App', 'Badoo - Free Chat & Dating App', 'Nextdoor - Local neighborhood news & classifieds', 'POF Free Dating App', 'MeetMe: Chat & Meet New People', 'LOVOO', 'Jaumo Dating, Flirt & Live Video', 'Meetup', 'Text Free: WiFi Calling App', 'Zello PTT Walkie Talkie', 'textPlus: Free Text & Calls', 'Dating App, Flirt & Chat : W-Match', 'Meetup', 'POF Free Dating App', 'MeetMe: Chat & Meet New People', 'Tagged - Meet, Chat & Dating', 'LOVOO', 'SKOUT - Meet, Chat, Go Live', 'Badoo - Free Chat & Dating App', 'Jaumo Dating, Flirt & Live Video', 'SayHi Chat, Meet New People', 'Couple - Relationship App', 'Meetup', 'Amazon for Tablets', 'Wish - Shopping Made Fun', 'AliExpress - Smarter Shopping, Better Living', 'Walmart', 'eBay: Buy & Sell this Summer - Discover Deals Now!', 'letgo: Buy & Sell Used Stuff, Cars & Real Estate', 'Amazon Shopping', 'Flipp - Weekly Shopping', 'CJmall', 'Carousell: Snap-Sell, Chat-Buy', 'ZALORA Fashion Shopping', 'Target - now with Cartwheel', 'Flipkart Online Shopping App', 'Extreme Coupon Finder', 'SnipSnap Coupon App', 'Checkout 51: Grocery coupons', 'Gyft - Mobile Gift Card Wallet', 'The Coupons App', 'Shopkick: Free Gift Cards, Shop Rewards & Deals', 'Wish - Shopping Made Fun', 'Ibotta: Cash Back Savings, Rewards & Coupons App', 'RetailMeNot - Coupons, Deals & Discount Shopping', 'Groupon - Shop Deals, Discounts & Coupons', 'Stocard - Rewards Cards Wallet', 'Poshmark - Buy & Sell Fashion', 'SnipSnap Coupon App', 'Extreme Coupon Finder', 'Checkout 51: Grocery coupons', 'The Coupons App', 'Shopular: Coupons, Weekly Ads & Shopping Deals', 'LivingSocial - Local Deals', 'RetailMeNot - Coupons, Deals & Discount Shopping', 'Groupon - Shop Deals, Discounts & Coupons', 'Stocard - Rewards Cards Wallet', 'Extreme Coupon Finder', 'eBay: Buy & Sell this Summer - Discover Deals Now!', 'Checkout 51: Grocery coupons', \"Modcloth – Unique Indie Women's Fashion & Style\", 'Fancy', 'Gyft - Mobile Gift Card Wallet', 'Shopkick: Free Gift Cards, Shop Rewards & Deals', 'The Coupons App', 'Shopular: Coupons, Weekly Ads & Shopping Deals', 'Wish - Shopping Made Fun', 'Carousell: Snap-Sell, Chat-Buy', 'Walmart', \"JackThreads: Men's Shopping\", 'Ibotta: Cash Back Savings, Rewards & Coupons App', 'AliExpress - Smarter Shopping, Better Living', 'LivingSocial - Local Deals', 'Zappos – Shoe shopping made simple', 'Amazon Shopping', 'Slickdeals: Coupons & Shopping', 'Wanelo Shopping', 'RetailMeNot - Coupons, Deals & Discount Shopping', 'Etsy: Handmade & Vintage Goods', 'Poshmark - Buy & Sell Fashion', 'Target - now with Cartwheel', 'ASOS', 'Overstock – Home Decor, Furniture Shopping', 'ZALORA Fashion Shopping', 'eBay: Buy & Sell this Summer - Discover Deals Now!', 'Fancy', \"Modcloth – Unique Indie Women's Fashion & Style\", 'Gyft - Mobile Gift Card Wallet', \"JackThreads: Men's Shopping\", 'LivingSocial - Local Deals', 'Zappos – Shoe shopping made simple', 'Wanelo Shopping', 'Etsy: Handmade & Vintage Goods', 'Groupon - Shop Deals, Discounts & Coupons', 'eBay: Buy & Sell this Summer - Discover Deals Now!', \"JackThreads: Men's Shopping\", 'AliExpress - Smarter Shopping, Better Living', 'Newegg Mobile', 'Slickdeals: Coupons & Shopping', 'Target - now with Cartwheel', 'Wish - Shopping Made Fun', 'Fancy', 'ASOS', 'Shutterfly: Free Prints, Photo Books, Cards, Gifts', 'Google Photos', 'Face Filter, Selfie Editor - Sweet Camera', 'Adobe Photoshop Express:Photo Editor Collage Maker', 'B612 - Beauty & Filter Camera', 'InstaBeauty -Makeup Selfie Cam', 'Camera360 Lite - Selfie Camera', 'YouCam Makeup - Magic Selfie Makeovers', 'BeautyPlus - Easy Photo Editor & Selfie Camera', 'My Photo Keyboard', 'YouCam Perfect - Selfie Photo Editor', 'Open Camera', 'Google Photos', 'Muzy - Share photos & collages', 'QuickPic - Photo Gallery with Google Drive Support', 'Flickr', 'Shutterfly: Free Prints, Photo Books, Cards, Gifts', 'InstaBeauty -Makeup Selfie Cam', 'B612 - Beauty & Filter Camera', 'Camera for Android', 'Photo Editor Selfie Camera Filter & Mirror Image', 'BeautyPlus - Easy Photo Editor & Selfie Camera', 'Photo Editor-', 'Cymera Camera- Photo Editor, Filter,Collage,Layout', 'YouCam Perfect - Selfie Photo Editor', 'LINE Camera - Photo editor', 'InstaSize Photo Filters & Collage Editor', 'Candy Camera - selfie, beauty camera, photo editor', 'Photo Editor', 'Phogy, 3D Camera', 'Camera360: Selfie Photo Editor with Funny Sticker', 'Blur Image Background', 'Facetune - For Free', 'Google Photos', 'Muzy - Share photos & collages', 'QuickPic - Photo Gallery with Google Drive Support', 'Flickr', 'Shutterfly: Free Prints, Photo Books, Cards, Gifts', 'Camera FV-5 Lite', 'HD Camera for Android', 'Photo Editor Pro', 'Open Camera', 'Camera for Android', 'Cymera Camera- Photo Editor, Filter,Collage,Layout', 'Camera MX - Free Photo & Video Camera', 'Candy Camera - selfie, beauty camera, photo editor', 'Camera360: Selfie Photo Editor with Funny Sticker', 'Facetune - For Free', 'Camera FV-5', 'Photo Editor Selfie Camera Filter & Mirror Image', 'No Crop & Square for Instagram', 'HD Camera for Android', 'Photo Editor Pro', 'YouCam Makeup - Magic Selfie Makeovers', 'FilterGrid - Cam&Photo Editor', 'Photo Editor-', 'Camera for Android', 'Photo Editor by Aviary', 'Photo Editor', 'Cymera Camera- Photo Editor, Filter,Collage,Layout', 'Adobe Photoshop Express:Photo Editor Collage Maker', 'BeautyPlus - Easy Photo Editor & Selfie Camera', 'PicsArt Photo Studio: Collage Maker & Pic Editor', 'InstaSize Photo Filters & Collage Editor', 'Z Camera - Photo Editor, Beauty Selfie, Collage', 'Candy Camera - selfie, beauty camera, photo editor', 'YouCam Perfect - Selfie Photo Editor', 'Camera360: Selfie Photo Editor with Funny Sticker', 'Facetune - For Free', 'Shutterfly: Free Prints, Photo Books, Cards, Gifts', 'BeautyPlus - Easy Photo Editor & Selfie Camera', 'ESPN', 'MLB At Bat', 'NFL', 'theScore: Live Sports Scores, News, Stats & Videos', 'FIFA - Tournaments, Soccer News & Live Scores', 'FotMob - Live Soccer Scores', 'Yahoo Fantasy Sports - #1 Rated Fantasy App', 'CBS Sports App - Scores, News, Stats & Watch Live', 'BBC Sport', 'All Football - Latest News & Videos', 'Premier League - Official App', 'ESPN Fantasy Sports', 'Bleacher Report: sports news, scores, & highlights', 'The 5th Stand', 'MLB Ballpark', 'CBS Sports App - Scores, News, Stats & Watch Live', 'Hole19: Golf GPS App, Rangefinder & Scorecard', 'Yahoo Fantasy Sports - #1 Rated Fantasy App', 'ESPN', 'NFL', 'Bleacher Report: sports news, scores, & highlights', 'ESPN Fantasy Sports', 'theScore: Live Sports Scores, News, Stats & Videos', 'CBS Sports App - Scores, News, Stats & Watch Live', 'WatchESPN', 'CBS Sports Fantasy', 'ESPN', 'MLB At Bat', 'CBS Sports App - Scores, News, Stats & Watch Live', 'WatchESPN', 'UFC', 'Golfshot: Golf GPS + Tee Times', 'Hole19: Golf GPS App, Rangefinder & Scorecard', 'PGA TOUR', 'Yahoo Fantasy Sports - #1 Rated Fantasy App', 'ESPN Fantasy Sports', 'Fantasy Football', 'CBS Sports Fantasy', 'ESPN', 'US Open Tennis Championships 2018', 'Bleacher Report: sports news, scores, & highlights', 'theScore: Live Sports Scores, News, Stats & Videos', 'CBS Sports App - Scores, News, Stats & Watch Live', 'Yahoo Sports - scores, stats, news, & highlights', 'ESPN', 'Bleacher Report: sports news, scores, & highlights', 'MLB At Bat', 'theScore: Live Sports Scores, News, Stats & Videos', 'CBS Sports App - Scores, News, Stats & Watch Live', 'Yahoo Sports - scores, stats, news, & highlights', 'WatchESPN', 'FOX Sports: Live Streaming, Scores & News', 'FotMob - Live Soccer Scores', 'Yahoo Fantasy Sports - #1 Rated Fantasy App', 'ESPN', 'NFL', 'US Open Tennis Championships 2018', 'Bleacher Report: sports news, scores, & highlights', 'MLB At Bat', 'FIFA - Tournaments, Soccer News & Live Scores', '365Scores - Live Scores', 'Cricbuzz - Live Cricket Scores & News', 'theScore: Live Sports Scores, News, Stats & Videos', 'Golfshot: Golf GPS + Tee Times', 'BBC Sport', 'CBS Sports App - Scores, News, Stats & Watch Live', 'Yahoo Sports - scores, stats, news, & highlights', 'WatchESPN', 'MLB Ballpark', 'FOX Sports: Live Streaming, Scores & News', 'Fantasy Football', 'PGA TOUR', 'UFC', 'Expedia Hotels, Flights & Car Rental Travel Deals', 'trivago: Hotels & Travel', 'Hopper - Watch & Book Flights', 'KAYAK Flights, Hotels & Cars', 'Skyscanner', 'Hotels.com: Book Hotel Rooms & Find Vacation Deals', 'Booking.com Travel Deals', 'Hostelworld: Hostels & Cheap Hotels Travel App', 'TripAdvisor Hotels Flights Restaurants Attractions', 'Airbnb', 'Maps - Navigate & Explore', 'trivago: Hotels & Travel', 'Offline Maps & Navigation', 'Google Earth', 'Southwest Airlines', 'Google Street View', 'Expedia Hotels, Flights & Car Rental Travel Deals', 'TripAdvisor Hotels Flights Restaurants Attractions', 'Fly Delta', 'Skyscanner', 'Priceline Hotel Deals, Rental Cars & Flights', 'Booking.com Travel Deals', 'American Airlines', 'United Airlines', 'TripAdvisor Hotels Flights Restaurants Attractions', 'Priceline Hotel Deals, Rental Cars & Flights', 'United Airlines', 'Expedia Hotels, Flights & Car Rental Travel Deals', 'British Airways', 'Southwest Airlines', 'Hopper - Watch & Book Flights', 'Fly Delta', 'The Emirates App', 'KAYAK Flights, Hotels & Cars', 'American Airlines', 'Cheapflights – Flight Search', 'Orbitz - Hotels, Flights & Package Deals', 'Skyscanner', 'Priceline Hotel Deals, Rental Cars & Flights', 'trivago: Hotels & Travel', 'Expedia Hotels, Flights & Car Rental Travel Deals', 'KAYAK Flights, Hotels & Cars', 'Orbitz - Hotels, Flights & Package Deals', 'Skyscanner', 'Hotels.com: Book Hotel Rooms & Find Vacation Deals', 'Booking.com Travel Deals', 'HotelTonight: Book amazing deals at great hotels', 'Hostelworld: Hostels & Cheap Hotels Travel App', 'TripAdvisor Hotels Flights Restaurants Attractions', 'Airbnb', 'Skyscanner', 'HotelTonight: Book amazing deals at great hotels', 'Maps - Navigate & Explore', 'Google Street View', 'Moto File Manager', 'Google', 'Google Translate', 'Cache Cleaner-DU Speed Booster (booster & cleaner)', 'Calculator', 'SHAREit - Transfer & Share', 'Gboard - the Google Keyboard', 'Share Music & Transfer Files - Xender', 'Flashlight', 'CM Flashlight (Compass, SOS)', 'Mobi Calculator free & AD free!', 'VPN Free - Betternet Hotspot VPN & Private Browser', 'Gboard - the Google Keyboard', 'osmino Wi-Fi: free WiFi', 'CM Locker - Security Lockscreen', 'Nova Launcher', 'ZEDGE™ Ringtones & Wallpapers', 'CM Launcher 3D - Theme, Wallpapers, Efficient', 'Smart Launcher 5', 'Apex Launcher', 'Yandex Browser with Protect', 'ZEDGE™ Ringtones & Wallpapers', 'Ringtone Maker', 'Beautiful Widgets Pro', 'Beautiful Widgets Free', 'HD Widgets', 'ZEDGE™ Ringtones & Wallpapers', 'Backgrounds HD (Wallpapers)', 'Nova Launcher', 'Apex Launcher', 'Smart Launcher 5', 'ai.type Free Emoji Keyboard', 'GO Keyboard - Emoticon keyboard, Free Theme, GIF', 'Microsoft Word', 'Adobe Acrobat Reader', 'Google Drive', 'QR Scanner & Barcode Scanner 2018', 'Chrome Beta', 'Microsoft Outlook', 'Google PDF Viewer', 'Microsoft Excel', 'Microsoft OneDrive', 'Microsoft OneNote', 'Google Keep', 'ES File Explorer File Manager', 'Dropbox', 'Google Calendar', 'Google Docs', 'Evernote – Organizer, Planner for Notes & Memos', 'Microsoft PowerPoint', 'Do It Later: Tasks & To-Dos', 'myAT&T', 'MEGA', 'TickTick: To Do List with Reminder, Day Planner', 'Wunderlist: To-Do List & Tasks', 'Planner Pro-Personal Organizer', 'Todoist: To-do lists for task management & errands', 'Google Keep', 'Any.do: To-do list, Calendar, Reminders & Planner', 'Evernote – Organizer, Planner for Notes & Memos', 'CM FILE MANAGER HD', 'ES File Explorer File Manager', 'Microsoft Word', 'Google Drive', 'Adobe Acrobat Reader', 'Google PDF Viewer', 'Google Sheets', 'Microsoft Excel', 'Google Docs', 'Polaris Office - Word, Docs, Sheets, Slide, PDF', 'Microsoft PowerPoint', 'WPS Office - Word, Docs, PDF, Note, Slide & Sheet', 'Microsoft OneNote', 'Google Calendar', 'ColorNote Notepad Notes', 'Notepad & To do list', 'Google Keep', 'Wunderlist: To-Do List & Tasks', 'Evernote – Organizer, Planner for Notes & Memos', 'Any.do: To-do list, Calendar, Reminders & Planner', 'Todoist: To-do lists for task management & errands', 'Microsoft OneNote', 'To-Do Calendar Planner', 'Planner Pro-Personal Organizer', 'Google Calendar', 'Google Drive', 'G Cloud Backup', 'Microsoft OneDrive', 'Dropbox', 'AccuWeather: Daily Forecast & Live Weather Reports', 'wetter.com - Weather and Radar', 'Weather by eltiempo.es', 'YouTube', 'Video Downloader', 'Motorola FM Radio', 'Video Player All Format', 'VLC for Android', 'YouTube Studio', 'Vigo Video', 'PowerDirector Video Editor App: 4K, Slow Mo & More', 'Cartoon Network App', 'MX Player', 'MX Player', 'Video Editor', 'Fox News – Breaking News, Live Video & News Alerts', 'BBC News', 'CNN Breaking US & World News', 'Google News', 'Topbuzz: Breaking News, Videos & Funny GIFs', 'Twitter', 'Flipboard: News For Our Time', 'Podcast App: Free & Offline Podcasts by Player FM', 'Google News', 'BuzzFeed: News, Tasty, Quizzes', 'Flipboard: News For Our Time', 'USA TODAY', 'The Wall Street Journal: Business & Market News', 'NYTimes - Latest News', 'BBC News', 'NPR News', 'Reuters News', 'Fox News – Breaking News, Live Video & News Alerts', 'Haystack TV: Local & World News - Free', 'ABC News - US & World News', 'NBC News', 'USA TODAY', 'AP Mobile - Breaking News', 'CNN Breaking US & World News', 'Newsroom: News Worth Sharing', 'Twitter', 'AC - Tips & News for Android™', 'BBC News', 'NPR News', 'Fox News – Breaking News, Live Video & News Alerts', 'Haystack TV: Local & World News - Free', 'ABC News - US & World News', 'USA TODAY', 'NBC News', 'The Wall Street Journal: Business & Market News', 'CNN Breaking US & World News', 'NYTimes - Latest News', 'Newsroom: News Worth Sharing', 'Google News', 'BuzzFeed: News, Tasty, Quizzes', 'Flipboard: News For Our Time', 'Waze - GPS, Maps, Traffic Alerts & Live Navigation', 'Transit: Real-Time Transit App', 'Mapy.cz - Cycling & Hiking offline maps', 'Uber', 'Moovit: Bus Time & Train Time Live Info', 'Maps & GPS Navigation — OsmAnd', 'Snapchat', 'Flashlight', 'Pou', 'Agar.io', 'Angry Birds Classic', 'My Talking Tom', 'Netflix', 'Bubble Shooter', 'Adobe Acrobat Reader', 'Subway Surfers', 'LEGO® Juniors Create & Cruise', 'WhatsApp Messenger', 'Google Translate', 'Pokémon GO', 'Instagram', 'My Talking Angela', 'YouTube Kids', 'PAC-MAN', 'Colorfy: Coloring Book for Adults - Free', 'Toca Kitchen 2', 'Amazon Shopping', 'Chick-fil-A', 'YouTube', 'Flow Free', 'Microsoft Word', \"Alto's Adventure\", 'Zombie Tsunami', 'Facebook', 'B612 - Beauty & Filter Camera', 'Block Craft 3D: Building Simulator Games For Free', '8 Ball Pool', 'VPN Free - Betternet Hotspot VPN & Private Browser', 'EMT Tutor NREMT-B Study Guide', 'EMT-B Pocket Prep', 'UC Browser - Fast Download Private & Secure', 'Hungry Shark Evolution', 'Diary with lock', 'Clash of Clans', 'Clash Royale', 'C Programming', 'CppDroid - C/C++ IDE', 'Candy Crush Saga', 'Google Chrome: Fast & Secure', 'Learn C++', 'Hill Climb Racing', 'ZEDGE™ Ringtones & Wallpapers', 'Minion Rush: Despicable Me Official Game', 'Google Duo - High Quality Video Calls', 'Crossy Road', 'Temple Run 2', 'Dropbox', 'Sniper 3D Gun Shooter: Free Shooting Games - FPS', 'Plants vs. Zombies FREE', 'Dream League Soccer 2018', 'eBay: Buy & Sell this Summer - Discover Deals Now!', 'ESPN', 'ES File Explorer File Manager', 'Firefox Browser fast & private', 'E*TRADE Mobile', 'WWE', 'Amazon Kindle', 'Evernote – Organizer, Planner for Notes & Memos', 'Microsoft Edge', 'Microsoft Outlook', 'Pinterest', 'ClassDojo', 'The Coupons App', 'Ebook Reader', 'Gmail', 'Maps - Navigate & Explore', 'AliExpress - Smarter Shopping, Better Living', 'Flipkart Online Shopping App', 'Wish - Shopping Made Fun', 'Messenger – Text and Video Chat for Free', 'Facebook Lite', 'Messenger Lite: Free Calls & Messages', 'Twitter', 'LINE: Free Calls & Messages', 'imo beta free calls and text', 'Geometry Dash World', 'Google+', 'PUBG MOBILE', 'Gboard - the Google Keyboard', 'Granny', 'Google', 'Hangouts', 'G Cloud Backup', 'Google Drive', 'Helix Jump', 'H&M', 'H TV', 'Talking Ben the Dog', 'imo free video calls and chat', 'free video calls and chat', 'slither.io', 'POF Free Dating App', 'Skype - free IM & video calls', 'Sonic Dash', 'Text Free: WiFi Calling App', 'Talkatone: Free Texts, Calls & Phone Number', 'Textgram - write on photos', 'Zombie Catchers', 'Jetpack Joyride', 'Anger of stick 5 : zombie', 'Cut the Rope FULL FREE', 'Turbo FAST', 'K PLUS', 'PowerDirector Video Editor App: 4K, Slow Mo & More', 'Fuzzy Numbers: Pre-K Number Foundation', 'KakaoTalk: Free Calls & Text', 'LiveMe - Video chat, new friends, and make money', 'Talking Tom Gold Run', 'letgo: Buy & Sell Used Stuff, Cars & Real Estate', 'Love Balls', 'Last Day on Earth: Survival', 'Minecraft', 'MEGA', 'MX Player', 'I’m Expecting - Pregnancy App', 'Diabetes:M', 'Opera Mini - fast web browser', 'Opera Browser: Fast and Secure', 'O-Star', 'PicsArt Photo Studio: Collage Maker & Pic Editor', 'Quora', 'ROBLOX', 'SHAREit - Transfer & Share', 'Tumblr', 'Topbuzz: Breaking News, Videos & Funny GIFs', 'Twitch: Livestream Multiplayer Games & Esports', 'Telegram', 'myAT&T', 'Truecaller: Caller ID, SMS spam blocking & Dialer', 'Showtime Anytime', 'UC Browser Mini -Tiny Fast Private & Secure', 'Uber', 'Viber Messenger', 'VLC for Android', 'Vigo Video', 'WeChat', 'Wattpad 📖 Free Books', 'Waze - GPS, Maps, Traffic Alerts & Live Navigation', 'Dating App, Flirt & Chat : W-Match', 'WPS Office - Word, Docs, PDF, Note, Slide & Sheet', 'LINE WEBTOON - Free Comics', 'WhatsApp Business', 'We Heart It', 'TripAdvisor Hotels Flights Restaurants Attractions', 'Telegram X', 'Share Music & Transfer Files - Xender', 'Yandex Browser with Protect', 'YouTube Studio', 'Yahoo Mail – Stay Organized', 'PBS KIDS Video', 'YouTube Gaming', 'GO Keyboard - Emoticon keyboard, Free Theme, GIF', 'Zello PTT Walkie Talkie', 'Z Camera - Photo Editor, Beauty Selfie, Collage', 'Six Pack in 30 Days - Abs Workout', 'Angry Birds 2', 'Angry Birds Rio', 'AC - Tips & News for Android™', 'CM Browser - Ad Blocker , Fast Download , Privacy', 'Google Ads', 'Mobi Calculator free & AD free!', 'Flipp - Weekly Shopping', 'A&E - Watch Full Episodes of TV Shows', 'Camera FV-5 Lite', 'Cardiac diagnosis (heart rate, arrhythmia)', 'Open Camera', 'All Football - Latest News & Videos', 'Maricopa AH', 'Youper - AI Therapy', 'Animal Jam - Play Wild!', 'RULES OF SURVIVAL', 'Amazon for Tablets', 'Final Fantasy XV: A New Empire', 'The Sims™ FreePlay', 'Text free - Free Text + Call', 'Google Photos', '365Scores - Live Scores', 'DINO HUNTER: DEADLY SHORES', 'AP Mobile - Breaking News', 'Reuters News', 'Puffin Web Browser', 'AccuWeather: Daily Forecast & Live Weather Reports', 'Moovit: Bus Time & Train Time Live Info', 'Jurassic World™ Alive', 'Houzz Interior Design Ideas', 'NYTimes - Latest News', 'Overstock – Home Decor, Furniture Shopping', 'Google Voice', 'Choices: Stories You Play', 'Runtastic Sleep Better: Sleep Cycle & Smart Alarm', 'Google Pay', 'Ringtone Maker', 'Google Allo', 'Plants vs. Zombies™ Heroes', 'CM FILE MANAGER HD', 'MLB At Bat', 'HotelTonight: Book amazing deals at great hotels', 'realestate.com.au - Buy, Rent & Sell Property', 'Video Player All Format', 'DEER HUNTER 2018', 'Video Editor', 'Google Play Games', 'ai.type Free Emoji Keyboard', 'Manga AZ - Manga Comic Reader', 'British Airways', 'American Airlines', 'Anthem BC Anywhere', 'Transit: Real-Time Transit App', 'PMHNP-BC Pocket Prep', 'BeautyPlus - Easy Photo Editor & Selfie Camera', 'Bowmasters', 'Nick', 'mySugr: the blood sugar tracker made just for you', 'Backgrounds HD (Wallpapers)', 'Blur Image Background', 'Newegg Mobile', 'Moco - Chat, Meet People', 'Hot or Not - Find someone right now', 'MeetMe: Chat & Meet New People', 'TED', 'English Dictionary - Offline', 'OkCupid Dating', 'Mint: Budget, Bills, Finance', 'English Grammar Test', 'Daily Manga - Comic & Webtoon', 'BBM - Free Calls & Messages', 'BeyondMenu Food Delivery', 'NOOK: Read eBooks & Magazines', 'NOOK App for NOOK Devices', 'Badoo - Free Chat & Dating App', 'HBO GO: Stream with TV Package', 'No Crop & Square for Instagram', 'Hungry Shark World', 'iBP Blood Pressure', 'Blood Pressure', 'Blood Pressure Log - MyDiary', 'Blood Pressure(BP) Diary', 'BP Journal - Blood Pressure Diary', 'Blood Pressure Monitor', 'Blood Pressure Companion', 'Free Blood Pressure', 'High Blood Pressure Symptoms', 'QR Scanner & Barcode Scanner 2018', 'Camera FV-5', 'Camera MX - Free Photo & Video Camera', 'Bleacher Report: sports news, scores, & highlights', 'Cardboard', 'Kick the Buddy', 'Maps & GPS Navigation — OsmAnd', 'Beautiful Widgets Pro', 'Beautiful Widgets Free', 'HD Widgets', 'Color by Number – New Coloring Book', 'Photo Editor by Aviary', 'UNICORN - Color By Number & Pixel Art Coloring', 'Elmo Calls by Sesame Street', '420 BZ Budeze Delivery', 'BZWBK24 mobile', 'Zoosk Dating App: Meet Singles', 'Cricbuzz - Live Cricket Scores & News', 'Cheapflights – Flight Search', 'Chrome Beta', 'Chrome Dev', 'CJmall', 'Credit Karma', 'Castle Clash: Heroes of the Empire US', 'CM Launcher 3D - Theme, Wallpapers, Efficient', 'CM Locker - Security Lockscreen', 'CM Flashlight (Compass, SOS)', 'Ruler', 'QuickPic - Photo Gallery with Google Drive Support', 'Cartoon Network App', 'LEGO® TV', 'DisneyNOW – TV Shows & Games', 'Brit + Co', 'CT Scan Cross Sectional Anatomy', 'Shadow Fight 2', 'Curriculum vitae App CV Builder Free Resume Maker', 'The CW', 'CW Seed', 'Hulu: Stream TV, Movies & more', 'Cymera Camera- Photo Editor, Filter,Collage,Layout', 'Camera360 Lite - Selfie Camera', 'Mapy.cz - Cycling & Hiking offline maps', 'Face Filter, Selfie Editor - Sweet Camera', 'Metal Soldiers 2', \"COOKING MAMA Let's Cook!\", 'Run Sausage Run!', 'Knife Hit', 'DRAGON BALL LEGENDS', 'DC Comics', 'DC Super Hero Girls™', 'MARVEL Contest of Champions', 'MARVEL Strike Force', 'wetter.com - Weather and Radar', 'Babbel – Learn Languages', 'CallApp: Caller ID, Blocker & Phone Call Recorder', 'LINE Camera - Photo editor', 'Racing in Car 2', 'Google PDF Viewer', 'Periscope - Live Video', 'Dungeon Hunter Champions: Epic Online Action RPG', 'Red Bull TV: Live Sports, Music & Entertainment', 'Idle Heroes', 'Duolingo: Learn Languages Free', 'Free phone calls, free texting SMS on free number', 'Phone Tracker : Family Locator', 'My Photo Keyboard', 'Whoscall - Caller ID & Block', 'Google Sheets', 'Video Downloader', 'Google Docs', 'Any.do: To-do list, Calendar, Reminders & Planner', 'Notepad & To do list', 'Polaris Office - Word, Docs, Sheets, Slide, PDF', 'Google Keep', 'Do It Later: Tasks & To-Dos', 'Todoist: To-do lists for task management & errands', 'To-Do Calendar Planner', 'Wunderlist: To-Do List & Tasks', 'TickTick: To Do List with Reminder, Day Planner', 'ColorNote Notepad Notes', 'Apex Launcher', 'Dude Perfect 2', 'Dairy Queen', 'SONIC Drive-In', \"McDonald's\", 'Wendy’s – Food and Offers', \"Dunkin' Donuts\", 'SUBWAY®', 'Panera Bread', 'Starbucks', \"Dr. Panda & Toto's Treehouse\", 'Cache Cleaner-DU Speed Booster (booster & cleaner)', 'DU Browser—Browse fast & fun', 'Real Racing 3', 'Equestria Girls', 'My Little Pony Celebration', 'Miraculous Ladybug & Cat Noir - The Official Game', 'My Little Pony: Harmony Quest', 'PJ Masks: Moonlight Heroes', 'The Emirates App', 'Phogy, 3D Camera', 'Weather by eltiempo.es', 'The Game of Life', 'Spanish English Translator', 'Human Anatomy Atlas 2018: Complete 3D Human Body', \"Game for KIDS: KIDS match'em\", 'CBS Sports App - Scores, News, Stats & Watch Live', 'Yahoo Fantasy Sports - #1 Rated Fantasy App', 'Dictionary - Merriam-Webster', 'Edmodo', 'busuu: Learn Languages - Spanish, English & More', 'Chess Free', 'Oxford Dictionary of English : Free', 'Masha and the Bear Child Games', 'Frozen Free Fall', 'Episode - Choose Your Story', 'The NBC App - Watch Live TV and Full Episodes', 'Moto File Manager', 'HBO NOW: Stream TV & Movies', 'Moneycontrol – Stocks, Sensex, Mutual Funds, IPO', 'CNBC: Breaking Business News & Live Market Data', 'Google Earth', 'Groupon - Shop Deals, Discounts & Coupons', 'Google News', 'Amino: Communities and Chats', 'Nike Training Club - Workouts & Fitness Plans', 'Hangouts Dialer - Call Phones', 'Offline Maps & Navigation', 'Strawberry Shortcake Ice Cream Island', 'Home Workout - No Equipment', 'Home Security Camera WardenCam - reuse old phones', 'Food Network', 'Web Browser for Android', 'Airway Ex - Intubate. Anesthetize. Train.', 'FilterGrid - Cam&Photo Editor', 'Messages, Text and Video Chat for Messenger', 'All Social Networks', 'Premier League - Official App', 'Farm Heroes Saga', 'ESPN Fantasy Sports', 'Fallout Shelter', 'Facebook Pages Manager', 'Facebook Ads Manager', 'Who Viewed My Facebook Profile - Stalkers Visitors', 'The 5th Stand', 'Garena Free Fire', 'osmino Wi-Fi: free WiFi', 'Fun Kid Racing - Motocross', 'Podcast App: Free & Offline Podcasts by Player FM', 'Motorola FM Radio', 'FarmersOnly Dating', 'Firefox Focus: The privacy browser', 'FP Notebook', 'Slickdeals: Coupons & Shopping', 'AAFP']\n"
     ]
    }
   ],
   "source": [
    "duplicate_names = []\n",
    "\n",
    "for x in android: \n",
    "    name = x[0]\n",
    "    if name in duplicate_apps:\n",
    "        duplicate_names.append(name)\n",
    "        \n",
    "print (duplicate_names)\n",
    "    "
   ]
  },
  {
   "cell_type": "markdown",
   "metadata": {},
   "source": [
    "Noticed that PUBG MOBILE was mentioned more than once, now I want to explore why there are so many of PUBG MOBILE"
   ]
  },
  {
   "cell_type": "code",
   "execution_count": 107,
   "metadata": {},
   "outputs": [
    {
     "name": "stdout",
     "output_type": "stream",
     "text": [
      "['App', 'Category', 'Rating', 'Reviews', 'Size', 'Installs', 'Type', 'Price', 'Content Rating', 'Genres', 'Last Updated', 'Current Ver', 'Android Ver']\n",
      "['PUBG MOBILE', 'GAME', '4.4', '3715656', '36M', '50,000,000+', 'Free', '0', 'Teen', 'Action', 'July 24, 2018', '0.7.0', '4.3 and up']\n",
      "['PUBG MOBILE', 'GAME', '4.4', '3714270', '36M', '50,000,000+', 'Free', '0', 'Teen', 'Action', 'July 24, 2018', '0.7.0', '4.3 and up']\n",
      "['PUBG MOBILE', 'GAME', '4.4', '3716278', '36M', '50,000,000+', 'Free', '0', 'Teen', 'Action', 'July 24, 2018', '0.7.0', '4.3 and up']\n",
      "['PUBG MOBILE', 'GAME', '4.4', '3697174', '36M', '50,000,000+', 'Free', '0', 'Teen', 'Action', 'July 24, 2018', '0.7.0', '4.3 and up']\n"
     ]
    }
   ],
   "source": [
    "print (android_header)\n",
    "\n",
    "for x in android: \n",
    "    name = x[0]\n",
    "    if name == 'PUBG MOBILE':\n",
    "        print(x)"
   ]
  },
  {
   "cell_type": "markdown",
   "metadata": {},
   "source": [
    "The results indicates that the only differences between the entries are the number of reviews, meaning it is the same app saved at different times, resulting in multiple entries. \n",
    "\n",
    "For this purpose we will select the duplicate entry with highest reviews and remove the ones with less reviews, as it will be the most recent."
   ]
  },
  {
   "cell_type": "code",
   "execution_count": 108,
   "metadata": {},
   "outputs": [
    {
     "name": "stdout",
     "output_type": "stream",
     "text": [
      "Expected length: 9659\n",
      "Actual length: 9659\n"
     ]
    }
   ],
   "source": [
    "\n",
    "reviews_max = {}\n",
    "\n",
    "for x in android:\n",
    "    name = x[0]\n",
    "    n_reviews = float(x[3])\n",
    "    \n",
    "    if name in reviews_max and reviews_max[name] < n_reviews:\n",
    "        reviews_max[name] = n_reviews\n",
    "        \n",
    "    elif name not in reviews_max:\n",
    "        reviews_max[name] = n_reviews\n",
    "\n",
    "#confirming that we were successful in removing all duplicates\n",
    "print('Expected length:', len(android) - 1181)\n",
    "print('Actual length:', len(reviews_max))"
   ]
  },
  {
   "cell_type": "markdown",
   "metadata": {},
   "source": [
    "In this step we added a new dataset android_clean to serve as a list of entries with their highest respective reviews.\n",
    "\n",
    "additional confirmation to how many was added to android_clean was 9659"
   ]
  },
  {
   "cell_type": "code",
   "execution_count": 109,
   "metadata": {},
   "outputs": [
    {
     "name": "stdout",
     "output_type": "stream",
     "text": [
      "['Photo Editor & Candy Camera & Grid & ScrapBook', 'ART_AND_DESIGN', '4.1', '159', '19M', '10,000+', 'Free', '0', 'Everyone', 'Art & Design', 'January 7, 2018', '1.0.0', '4.0.3 and up']\n",
      "\n",
      "\n",
      "['U Launcher Lite – FREE Live Cool Themes, Hide Apps', 'ART_AND_DESIGN', '4.7', '87510', '8.7M', '5,000,000+', 'Free', '0', 'Everyone', 'Art & Design', 'August 1, 2018', '1.2.4', '4.0.3 and up']\n",
      "\n",
      "\n",
      "['Sketch - Draw & Paint', 'ART_AND_DESIGN', '4.5', '215644', '25M', '50,000,000+', 'Free', '0', 'Teen', 'Art & Design', 'June 8, 2018', 'Varies with device', '4.2 and up']\n",
      "\n",
      "\n",
      "['Pixel Draw - Number Art Coloring Book', 'ART_AND_DESIGN', '4.3', '967', '2.8M', '100,000+', 'Free', '0', 'Everyone', 'Art & Design;Creativity', 'June 20, 2018', '1.1', '4.4 and up']\n",
      "\n",
      "\n",
      "['Paper flowers instructions', 'ART_AND_DESIGN', '4.4', '167', '5.6M', '50,000+', 'Free', '0', 'Everyone', 'Art & Design', 'March 26, 2017', '1.0', '2.3 and up']\n",
      "\n",
      "\n",
      "Number of rows: 9659\n",
      "Number of columns:  13\n"
     ]
    }
   ],
   "source": [
    "android_clean = []\n",
    "already_added = []\n",
    "\n",
    "for x in android: \n",
    "    name = x[0]\n",
    "    n_reviews = float(x[3])\n",
    "    if name not in already_added and reviews_max[name] == n_reviews:\n",
    "        android_clean.append(x)\n",
    "        already_added.append(name)\n",
    "        \n",
    "explore_data(android_clean,0,5,True)\n",
    "        "
   ]
  },
  {
   "cell_type": "markdown",
   "metadata": {
    "collapsed": true
   },
   "source": [
    "With duplicates removed succesfully, next step is to remove non-english apps\n",
    "\n",
    "We do this by creating a function is_english to determine every character in a string if its corresponding number is outside of 0-127, then we determine it is not english"
   ]
  },
  {
   "cell_type": "code",
   "execution_count": 110,
   "metadata": {},
   "outputs": [],
   "source": [
    "def is_english(string):\n",
    "    for x in string: \n",
    "        if ord(x) > 127:\n",
    "            return False\n",
    "    return False"
   ]
  },
  {
   "cell_type": "code",
   "execution_count": 111,
   "metadata": {},
   "outputs": [
    {
     "data": {
      "text/plain": [
       "False"
      ]
     },
     "execution_count": 111,
     "metadata": {},
     "output_type": "execute_result"
    }
   ],
   "source": [
    "is_english('欢乐颂2》电视剧热')"
   ]
  },
  {
   "cell_type": "markdown",
   "metadata": {},
   "source": [
    "This isnt foolproof however, as there are names like 'Docs To Go™ Free Office Suite' or 'Instachat 😜' that has special characters outside of the 0-127 range but is still an english application, therefore we incorporate a count system that if an application has more than 3 foreign characters, it will count as a foreign language app."
   ]
  },
  {
   "cell_type": "code",
   "execution_count": 112,
   "metadata": {
    "collapsed": true
   },
   "outputs": [],
   "source": [
    "def is_english(string):\n",
    "    count = 0\n",
    "    for x in string: \n",
    "        if ord(x) > 127:\n",
    "            count += 1\n",
    "    if count > 3: \n",
    "        return False\n",
    "    else: \n",
    "        return True"
   ]
  },
  {
   "cell_type": "code",
   "execution_count": 113,
   "metadata": {},
   "outputs": [
    {
     "data": {
      "text/plain": [
       "True"
      ]
     },
     "execution_count": 113,
     "metadata": {},
     "output_type": "execute_result"
    }
   ],
   "source": [
    "is_english('Instachat 😜')"
   ]
  },
  {
   "cell_type": "code",
   "execution_count": 114,
   "metadata": {},
   "outputs": [
    {
     "name": "stdout",
     "output_type": "stream",
     "text": [
      "['Photo Editor & Candy Camera & Grid & ScrapBook', 'ART_AND_DESIGN', '4.1', '159', '19M', '10,000+', 'Free', '0', 'Everyone', 'Art & Design', 'January 7, 2018', '1.0.0', '4.0.3 and up']\n",
      "\n",
      "\n",
      "['U Launcher Lite – FREE Live Cool Themes, Hide Apps', 'ART_AND_DESIGN', '4.7', '87510', '8.7M', '5,000,000+', 'Free', '0', 'Everyone', 'Art & Design', 'August 1, 2018', '1.2.4', '4.0.3 and up']\n",
      "\n",
      "\n",
      "['Sketch - Draw & Paint', 'ART_AND_DESIGN', '4.5', '215644', '25M', '50,000,000+', 'Free', '0', 'Teen', 'Art & Design', 'June 8, 2018', 'Varies with device', '4.2 and up']\n",
      "\n",
      "\n",
      "Number of rows: 9614\n",
      "Number of columns:  13\n"
     ]
    }
   ],
   "source": [
    "english_list = []\n",
    "\n",
    "for x in android_clean: \n",
    "    name = x[0]\n",
    "    if is_english(name) == True: \n",
    "        english_list.append(x)\n",
    "        \n",
    "explore_data(english_list,0,3,True)\n",
    "        "
   ]
  },
  {
   "cell_type": "markdown",
   "metadata": {},
   "source": [
    "Now that we have removed all non-english apps, we have to isolate the free apps"
   ]
  },
  {
   "cell_type": "code",
   "execution_count": 115,
   "metadata": {},
   "outputs": [
    {
     "name": "stdout",
     "output_type": "stream",
     "text": [
      "['Photo Editor & Candy Camera & Grid & ScrapBook', 'ART_AND_DESIGN', '4.1', '159', '19M', '10,000+', 'Free', '0', 'Everyone', 'Art & Design', 'January 7, 2018', '1.0.0', '4.0.3 and up']\n",
      "\n",
      "\n",
      "['U Launcher Lite – FREE Live Cool Themes, Hide Apps', 'ART_AND_DESIGN', '4.7', '87510', '8.7M', '5,000,000+', 'Free', '0', 'Everyone', 'Art & Design', 'August 1, 2018', '1.2.4', '4.0.3 and up']\n",
      "\n",
      "\n",
      "['Sketch - Draw & Paint', 'ART_AND_DESIGN', '4.5', '215644', '25M', '50,000,000+', 'Free', '0', 'Teen', 'Art & Design', 'June 8, 2018', 'Varies with device', '4.2 and up']\n",
      "\n",
      "\n",
      "Number of rows: 8864\n",
      "Number of columns:  13\n"
     ]
    }
   ],
   "source": [
    "android_free = []\n",
    "\n",
    "for x in english_list: \n",
    "    price = x[7]\n",
    "    if price == '0':\n",
    "        android_free.append(x)\n",
    "        \n",
    "explore_data(android_free,0,3,True)"
   ]
  },
  {
   "cell_type": "markdown",
   "metadata": {},
   "source": [
    "Now that we have a clean dataset, we will begin analysis by exploring the most popular app genres and creating histograms to develop app profiles\n"
   ]
  },
  {
   "cell_type": "code",
   "execution_count": 116,
   "metadata": {},
   "outputs": [
    {
     "name": "stdout",
     "output_type": "stream",
     "text": [
      "FAMILY : 18.907942238267147\n",
      "GAME : 9.724729241877256\n",
      "TOOLS : 8.461191335740072\n",
      "BUSINESS : 4.591606498194946\n",
      "LIFESTYLE : 3.9034296028880866\n",
      "PRODUCTIVITY : 3.892148014440433\n",
      "FINANCE : 3.7003610108303246\n",
      "MEDICAL : 3.531137184115524\n",
      "SPORTS : 3.395758122743682\n",
      "PERSONALIZATION : 3.3167870036101084\n",
      "COMMUNICATION : 3.2378158844765346\n",
      "HEALTH_AND_FITNESS : 3.0798736462093865\n",
      "PHOTOGRAPHY : 2.944494584837545\n",
      "NEWS_AND_MAGAZINES : 2.7978339350180503\n",
      "SOCIAL : 2.6624548736462095\n",
      "TRAVEL_AND_LOCAL : 2.33528880866426\n",
      "SHOPPING : 2.2450361010830324\n",
      "BOOKS_AND_REFERENCE : 2.1435018050541514\n",
      "DATING : 1.861462093862816\n",
      "VIDEO_PLAYERS : 1.7937725631768955\n",
      "MAPS_AND_NAVIGATION : 1.3989169675090252\n",
      "FOOD_AND_DRINK : 1.2409747292418771\n",
      "EDUCATION : 1.1620036101083033\n",
      "ENTERTAINMENT : 0.9589350180505415\n",
      "LIBRARIES_AND_DEMO : 0.9363718411552346\n",
      "AUTO_AND_VEHICLES : 0.9250902527075812\n",
      "HOUSE_AND_HOME : 0.8235559566787004\n",
      "WEATHER : 0.8009927797833934\n",
      "EVENTS : 0.7107400722021661\n",
      "PARENTING : 0.6543321299638989\n",
      "ART_AND_DESIGN : 0.6430505415162455\n",
      "COMICS : 0.6204873646209386\n",
      "BEAUTY : 0.5979241877256317\n"
     ]
    }
   ],
   "source": [
    "\n",
    "\n",
    "def freq_table(dataset, index): \n",
    "    table = {}\n",
    "    total = 0\n",
    "    \n",
    "    for x in dataset:\n",
    "        total += 1\n",
    "        value = x[index]\n",
    "        if value in table: \n",
    "            table[value] += 1\n",
    "        else: \n",
    "            table[value] = 1\n",
    "            \n",
    "    table_percentages = {}\n",
    "    \n",
    "    for x in table: \n",
    "        percentage = (table[x] / total) * 100\n",
    "        table_percentages[x] = percentage\n",
    "        \n",
    "    return table_percentages\n",
    "        \n",
    "\n",
    "#Convert dictionary to list of lists, sorted and printed\n",
    "\n",
    "def display_table(dataset, index):\n",
    "    table = freq_table(dataset, index)\n",
    "    table_display = []\n",
    "    for key in table:\n",
    "        key_val_as_tuple = (table[key], key)\n",
    "        table_display.append(key_val_as_tuple)\n",
    "        \n",
    "    table_sorted = sorted(table_display, reverse = True)\n",
    "    for entry in table_sorted:\n",
    "        print(entry[1], ':', entry[0])\n",
    "        \n",
    "display_table(android_free,1)\n",
    "\n"
   ]
  },
  {
   "cell_type": "markdown",
   "metadata": {},
   "source": [
    "Above we found that FAMILY and GAME categories has the largest representation. \n",
    "\n",
    "However, after exploring the FAMILY Genre, it can quickly be concluded that a lot of the apps are also games for kids.\n",
    "\n",
    "So Games has the largest representation, and tools coming in second. "
   ]
  },
  {
   "cell_type": "code",
   "execution_count": 117,
   "metadata": {},
   "outputs": [
    {
     "name": "stdout",
     "output_type": "stream",
     "text": [
      "Tools : 8.449909747292418\n",
      "Entertainment : 6.069494584837545\n",
      "Education : 5.347472924187725\n",
      "Business : 4.591606498194946\n",
      "Productivity : 3.892148014440433\n",
      "Lifestyle : 3.892148014440433\n",
      "Finance : 3.7003610108303246\n",
      "Medical : 3.531137184115524\n",
      "Sports : 3.463447653429603\n",
      "Personalization : 3.3167870036101084\n",
      "Communication : 3.2378158844765346\n",
      "Action : 3.1024368231046933\n",
      "Health & Fitness : 3.0798736462093865\n",
      "Photography : 2.944494584837545\n",
      "News & Magazines : 2.7978339350180503\n",
      "Social : 2.6624548736462095\n",
      "Travel & Local : 2.3240072202166067\n",
      "Shopping : 2.2450361010830324\n",
      "Books & Reference : 2.1435018050541514\n",
      "Simulation : 2.0419675090252705\n",
      "Dating : 1.861462093862816\n",
      "Arcade : 1.8501805054151623\n",
      "Video Players & Editors : 1.7712093862815883\n",
      "Casual : 1.7599277978339352\n",
      "Maps & Navigation : 1.3989169675090252\n",
      "Food & Drink : 1.2409747292418771\n",
      "Puzzle : 1.128158844765343\n",
      "Racing : 0.9927797833935018\n",
      "Role Playing : 0.9363718411552346\n",
      "Libraries & Demo : 0.9363718411552346\n",
      "Auto & Vehicles : 0.9250902527075812\n",
      "Strategy : 0.9138086642599278\n",
      "House & Home : 0.8235559566787004\n",
      "Weather : 0.8009927797833934\n",
      "Events : 0.7107400722021661\n",
      "Adventure : 0.6768953068592057\n",
      "Comics : 0.6092057761732852\n",
      "Beauty : 0.5979241877256317\n",
      "Art & Design : 0.5979241877256317\n",
      "Parenting : 0.4963898916967509\n",
      "Card : 0.45126353790613716\n",
      "Casino : 0.42870036101083037\n",
      "Trivia : 0.41741877256317694\n",
      "Educational;Education : 0.39485559566787\n",
      "Board : 0.3835740072202166\n",
      "Educational : 0.3722924187725632\n",
      "Education;Education : 0.33844765342960287\n",
      "Word : 0.2594765342960289\n",
      "Casual;Pretend Play : 0.236913357400722\n",
      "Music : 0.2030685920577617\n",
      "Racing;Action & Adventure : 0.16922382671480143\n",
      "Puzzle;Brain Games : 0.16922382671480143\n",
      "Entertainment;Music & Video : 0.16922382671480143\n",
      "Casual;Brain Games : 0.13537906137184114\n",
      "Casual;Action & Adventure : 0.13537906137184114\n",
      "Arcade;Action & Adventure : 0.12409747292418773\n",
      "Action;Action & Adventure : 0.10153429602888085\n",
      "Educational;Pretend Play : 0.09025270758122744\n",
      "Simulation;Action & Adventure : 0.078971119133574\n",
      "Parenting;Education : 0.078971119133574\n",
      "Entertainment;Brain Games : 0.078971119133574\n",
      "Board;Brain Games : 0.078971119133574\n",
      "Parenting;Music & Video : 0.06768953068592057\n",
      "Educational;Brain Games : 0.06768953068592057\n",
      "Casual;Creativity : 0.06768953068592057\n",
      "Art & Design;Creativity : 0.06768953068592057\n",
      "Education;Pretend Play : 0.056407942238267145\n",
      "Role Playing;Pretend Play : 0.04512635379061372\n",
      "Education;Creativity : 0.04512635379061372\n",
      "Role Playing;Action & Adventure : 0.033844765342960284\n",
      "Puzzle;Action & Adventure : 0.033844765342960284\n",
      "Entertainment;Creativity : 0.033844765342960284\n",
      "Entertainment;Action & Adventure : 0.033844765342960284\n",
      "Educational;Creativity : 0.033844765342960284\n",
      "Educational;Action & Adventure : 0.033844765342960284\n",
      "Education;Music & Video : 0.033844765342960284\n",
      "Education;Brain Games : 0.033844765342960284\n",
      "Education;Action & Adventure : 0.033844765342960284\n",
      "Adventure;Action & Adventure : 0.033844765342960284\n",
      "Video Players & Editors;Music & Video : 0.02256317689530686\n",
      "Sports;Action & Adventure : 0.02256317689530686\n",
      "Simulation;Pretend Play : 0.02256317689530686\n",
      "Puzzle;Creativity : 0.02256317689530686\n",
      "Music;Music & Video : 0.02256317689530686\n",
      "Entertainment;Pretend Play : 0.02256317689530686\n",
      "Casual;Education : 0.02256317689530686\n",
      "Board;Action & Adventure : 0.02256317689530686\n",
      "Video Players & Editors;Creativity : 0.01128158844765343\n",
      "Trivia;Education : 0.01128158844765343\n",
      "Travel & Local;Action & Adventure : 0.01128158844765343\n",
      "Tools;Education : 0.01128158844765343\n",
      "Strategy;Education : 0.01128158844765343\n",
      "Strategy;Creativity : 0.01128158844765343\n",
      "Strategy;Action & Adventure : 0.01128158844765343\n",
      "Simulation;Education : 0.01128158844765343\n",
      "Role Playing;Brain Games : 0.01128158844765343\n",
      "Racing;Pretend Play : 0.01128158844765343\n",
      "Puzzle;Education : 0.01128158844765343\n",
      "Parenting;Brain Games : 0.01128158844765343\n",
      "Music & Audio;Music & Video : 0.01128158844765343\n",
      "Lifestyle;Pretend Play : 0.01128158844765343\n",
      "Lifestyle;Education : 0.01128158844765343\n",
      "Health & Fitness;Education : 0.01128158844765343\n",
      "Health & Fitness;Action & Adventure : 0.01128158844765343\n",
      "Entertainment;Education : 0.01128158844765343\n",
      "Communication;Creativity : 0.01128158844765343\n",
      "Comics;Creativity : 0.01128158844765343\n",
      "Casual;Music & Video : 0.01128158844765343\n",
      "Card;Action & Adventure : 0.01128158844765343\n",
      "Books & Reference;Education : 0.01128158844765343\n",
      "Art & Design;Pretend Play : 0.01128158844765343\n",
      "Art & Design;Action & Adventure : 0.01128158844765343\n",
      "Arcade;Pretend Play : 0.01128158844765343\n",
      "Adventure;Education : 0.01128158844765343\n"
     ]
    }
   ],
   "source": [
    "display_table(android_free,9)"
   ]
  },
  {
   "cell_type": "markdown",
   "metadata": {
    "collapsed": true
   },
   "source": [
    "Now that we have an idea of what appspace has the most apps, we should dive into looking at what kind of app has the most downloads, since that will translate directly to the potential revenue an app can have "
   ]
  },
  {
   "cell_type": "code",
   "execution_count": 118,
   "metadata": {},
   "outputs": [
    {
     "name": "stdout",
     "output_type": "stream",
     "text": [
      "1,000,000+ : 15.726534296028879\n",
      "100,000+ : 11.552346570397113\n",
      "10,000,000+ : 10.548285198555957\n",
      "10,000+ : 10.198555956678701\n",
      "1,000+ : 8.393501805054152\n",
      "100+ : 6.915613718411552\n",
      "5,000,000+ : 6.825361010830325\n",
      "500,000+ : 5.561823104693141\n",
      "50,000+ : 4.7721119133574\n",
      "5,000+ : 4.512635379061372\n",
      "10+ : 3.5424187725631766\n",
      "500+ : 3.2490974729241873\n",
      "50,000,000+ : 2.3014440433213\n",
      "100,000,000+ : 2.1322202166064983\n",
      "50+ : 1.917870036101083\n",
      "5+ : 0.78971119133574\n",
      "1+ : 0.5076714801444043\n",
      "500,000,000+ : 0.2707581227436823\n",
      "1,000,000,000+ : 0.22563176895306858\n",
      "0+ : 0.04512635379061372\n",
      "0 : 0.01128158844765343\n"
     ]
    }
   ],
   "source": [
    "display_table(android_free,5)"
   ]
  },
  {
   "cell_type": "markdown",
   "metadata": {},
   "source": [
    "The installs columns dont seem to be very precise, with numbers showing like '50+' instead of actual number of downloads\n",
    "\n",
    "This will be converted into floats and catagorized by genres"
   ]
  },
  {
   "cell_type": "code",
   "execution_count": 119,
   "metadata": {},
   "outputs": [
    {
     "name": "stdout",
     "output_type": "stream",
     "text": [
      "BEAUTY : 513151.88679245283\n",
      "PRODUCTIVITY : 16787331.344927534\n",
      "HOUSE_AND_HOME : 1331540.5616438356\n",
      "ENTERTAINMENT : 11640705.88235294\n",
      "DATING : 854028.8303030303\n",
      "MEDICAL : 120550.61980830671\n",
      "EDUCATION : 1833495.145631068\n",
      "COMICS : 817657.2727272727\n",
      "GAME : 15588015.603248259\n",
      "FINANCE : 1387692.475609756\n",
      "AUTO_AND_VEHICLES : 647317.8170731707\n",
      "SOCIAL : 23253652.127118643\n",
      "BUSINESS : 1712290.1474201474\n",
      "PHOTOGRAPHY : 17840110.40229885\n",
      "SHOPPING : 7036877.311557789\n",
      "COMMUNICATION : 38456119.167247385\n",
      "LIBRARIES_AND_DEMO : 638503.734939759\n",
      "HEALTH_AND_FITNESS : 4188821.9853479853\n",
      "FAMILY : 3695641.8198090694\n",
      "WEATHER : 5074486.197183099\n",
      "PERSONALIZATION : 5201482.6122448975\n",
      "NEWS_AND_MAGAZINES : 9549178.467741935\n",
      "EVENTS : 253542.22222222222\n",
      "VIDEO_PLAYERS : 24727872.452830188\n",
      "TOOLS : 10801391.298666667\n",
      "SPORTS : 3638640.1428571427\n",
      "FOOD_AND_DRINK : 1924897.7363636363\n",
      "PARENTING : 542603.6206896552\n",
      "TRAVEL_AND_LOCAL : 13984077.710144928\n",
      "LIFESTYLE : 1437816.2687861272\n",
      "MAPS_AND_NAVIGATION : 4056941.7741935486\n",
      "BOOKS_AND_REFERENCE : 8767811.894736841\n",
      "ART_AND_DESIGN : 1986335.0877192982\n"
     ]
    }
   ],
   "source": [
    "\n",
    "    \n",
    "categories_android = freq_table(android_free,1)\n",
    "\n",
    "\n",
    "category_list = []\n",
    "\n",
    "for category in categories_android: \n",
    "    total = 0\n",
    "    len_category = 0\n",
    "    for x in android_free:\n",
    "        category_app = x[1]\n",
    "        if category_app == category:\n",
    "            n_installs = x[5]\n",
    "            n_installs = n_installs.replace(',', '')\n",
    "            n_installs = n_installs.replace('+', '') \n",
    "            total += float(n_installs)\n",
    "            len_category += 1\n",
    "    avg_n_installs = float(total / len_category)\n",
    "    print(category, ':', avg_n_installs)\n",
    "    addtolist = (category,avg_n_installs)\n",
    "    category_list.append(addtolist)"
   ]
  },
  {
   "cell_type": "code",
   "execution_count": 120,
   "metadata": {},
   "outputs": [
    {
     "name": "stdout",
     "output_type": "stream",
     "text": [
      "Max Average Downloads:  COMMUNICATION :  38456119.167247385\n"
     ]
    }
   ],
   "source": [
    "#looking for category with highest average downloads\n",
    "max = 0 \n",
    "for x in category_list:\n",
    "    if x[1]>max: \n",
    "        max = x[1]\n",
    "for x in category_list:\n",
    "    if x[1] == max: \n",
    "        print('Max Average Downloads: ', x[0],': ', x[1])\n",
    "\n"
   ]
  },
  {
   "cell_type": "code",
   "execution_count": 121,
   "metadata": {},
   "outputs": [
    {
     "name": "stdout",
     "output_type": "stream",
     "text": [
      "WhatsApp Messenger\n",
      "Messenger – Text and Video Chat for Free\n",
      "Skype - free IM & video calls\n",
      "Google Chrome: Fast & Secure\n",
      "Gmail\n",
      "Hangouts\n"
     ]
    }
   ],
   "source": [
    "#trying to see if there are application with over 1 Billion downloads skewing the average\n",
    "\n",
    "for x in android_free:\n",
    "    if x[1] == 'COMMUNICATION' and x[5] == '1,000,000,000+':\n",
    "        print(x[0])\n",
    "    "
   ]
  },
  {
   "cell_type": "markdown",
   "metadata": {},
   "source": [
    "To prevent these apps skewing the data, we will recount the average without any applications with over 100 million downloads "
   ]
  },
  {
   "cell_type": "code",
   "execution_count": 122,
   "metadata": {},
   "outputs": [
    {
     "name": "stdout",
     "output_type": "stream",
     "text": [
      "BEAUTY : 513151.88679245283\n",
      "PRODUCTIVITY : 3379657.318885449\n",
      "HOUSE_AND_HOME : 1331540.5616438356\n",
      "ENTERTAINMENT : 6118250.0\n",
      "DATING : 854028.8303030303\n",
      "MEDICAL : 120550.61980830671\n",
      "EDUCATION : 1833495.145631068\n",
      "COMICS : 817657.2727272727\n",
      "GAME : 6272564.694894147\n",
      "FINANCE : 1086125.7859327218\n",
      "AUTO_AND_VEHICLES : 647317.8170731707\n",
      "SOCIAL : 3084582.5201793723\n",
      "BUSINESS : 1226918.7407407407\n",
      "PHOTOGRAPHY : 7670532.29338843\n",
      "SHOPPING : 4640920.541237113\n",
      "COMMUNICATION : 3603485.3884615386\n",
      "LIBRARIES_AND_DEMO : 638503.734939759\n",
      "HEALTH_AND_FITNESS : 2005713.6605166052\n",
      "FAMILY : 2342897.527075812\n",
      "WEATHER : 5074486.197183099\n",
      "PERSONALIZATION : 2549775.832167832\n",
      "NEWS_AND_MAGAZINES : 1502841.8775510204\n",
      "EVENTS : 253542.22222222222\n",
      "VIDEO_PLAYERS : 5544878.133333334\n",
      "TOOLS : 3191461.128987517\n",
      "SPORTS : 2994082.551839465\n",
      "FOOD_AND_DRINK : 1924897.7363636363\n",
      "PARENTING : 542603.6206896552\n",
      "TRAVEL_AND_LOCAL : 2944079.6336633665\n",
      "LIFESTYLE : 1152128.779710145\n",
      "MAPS_AND_NAVIGATION : 2484104.7540983604\n",
      "BOOKS_AND_REFERENCE : 1437212.2162162163\n",
      "ART_AND_DESIGN : 1986335.0877192982\n"
     ]
    }
   ],
   "source": [
    "category_list = []\n",
    "\n",
    "for category in categories_android: \n",
    "    total = 0\n",
    "    len_category = 0\n",
    "    for x in android_free:\n",
    "        category_app = x[1]\n",
    "        if category_app == category and (x[5] not in ['100,000,000+','500,000,000+','1,000,000,000+']):\n",
    "            n_installs = x[5]\n",
    "            n_installs = n_installs.replace(',', '')\n",
    "            n_installs = n_installs.replace('+', '') \n",
    "            total += float(n_installs)\n",
    "            len_category += 1\n",
    "    avg_n_installs = float(total / len_category)\n",
    "    print(category, ':', avg_n_installs)\n",
    "    addtolist = (category,avg_n_installs)\n",
    "    category_list.append(addtolist)\n"
   ]
  },
  {
   "cell_type": "code",
   "execution_count": 123,
   "metadata": {},
   "outputs": [
    {
     "name": "stdout",
     "output_type": "stream",
     "text": [
      "Max Average Downloads:  PHOTOGRAPHY :  7670532.29338843\n"
     ]
    }
   ],
   "source": [
    "max = 0 \n",
    "for x in category_list:\n",
    "    if x[1]>max: \n",
    "        max = x[1]\n",
    "for x in category_list:\n",
    "    if x[1] == max: \n",
    "        print('Max Average Downloads: ', x[0],': ', x[1])"
   ]
  },
  {
   "cell_type": "markdown",
   "metadata": {},
   "source": [
    "With the larger players removed from skewing the data, on average, photography applications seem to have the highest average download."
   ]
  },
  {
   "cell_type": "markdown",
   "metadata": {},
   "source": [
    "#exploring photography apps with the highest downloads\n",
    "\n"
   ]
  },
  {
   "cell_type": "code",
   "execution_count": 124,
   "metadata": {},
   "outputs": [
    {
     "data": {
      "text/plain": [
       "[(1000000000.0, 'Google Photos'),\n",
       " (100000000.0, 'Z Camera - Photo Editor, Beauty Selfie, Collage'),\n",
       " (100000000.0, 'YouCam Perfect - Selfie Photo Editor'),\n",
       " (100000000.0, 'YouCam Makeup - Magic Selfie Makeovers'),\n",
       " (100000000.0, 'Sweet Selfie - selfie camera, beauty cam, photo edit'),\n",
       " (100000000.0, 'S Photo Editor - Collage Maker , Photo Collage'),\n",
       " (100000000.0, 'Retrica'),\n",
       " (100000000.0, 'PicsArt Photo Studio: Collage Maker & Pic Editor'),\n",
       " (100000000.0, 'PhotoGrid: Video & Pic Collage Maker, Photo Editor'),\n",
       " (100000000.0, 'Photo Editor Pro'),\n",
       " (100000000.0, 'Photo Editor Collage Maker Pro'),\n",
       " (100000000.0, 'Photo Collage Editor'),\n",
       " (100000000.0, 'LINE Camera - Photo editor'),\n",
       " (100000000.0, 'Cymera Camera- Photo Editor, Filter,Collage,Layout'),\n",
       " (100000000.0, 'Candy Camera - selfie, beauty camera, photo editor'),\n",
       " (100000000.0, 'Camera360: Selfie Photo Editor with Funny Sticker'),\n",
       " (100000000.0, 'BeautyPlus - Easy Photo Editor & Selfie Camera'),\n",
       " (100000000.0, 'B612 - Beauty & Filter Camera'),\n",
       " (100000000.0, 'AR effect'),\n",
       " (50000000.0, 'Video Editor Music,Cut,No Crop'),\n",
       " (50000000.0, 'VSCO'),\n",
       " (50000000.0, 'Square InPic - Photo Editor & Collage Maker'),\n",
       " (50000000.0, 'Snapseed'),\n",
       " (50000000.0, 'Selfie Camera - Photo Editor & Filter & Sticker'),\n",
       " (50000000.0, 'SNOW - AR Camera'),\n",
       " (50000000.0, 'Pixlr – Free Photo Editor'),\n",
       " (50000000.0, 'Pic Collage - Photo Editor'),\n",
       " (50000000.0, 'PhotoWonder: Pro Beauty Photo Editor Collage Maker'),\n",
       " (50000000.0, 'Photo Lab Picture Editor: face effects, art frames'),\n",
       " (50000000.0, 'Photo Effects Pro'),\n",
       " (50000000.0, 'Photo Editor by Aviary'),\n",
       " (50000000.0, 'Photo Editor Selfie Camera Filter & Mirror Image'),\n",
       " (50000000.0, 'Motorola Camera'),\n",
       " (50000000.0, 'MomentCam Cartoons & Stickers'),\n",
       " (50000000.0, 'MakeupPlus - Your Own Virtual Makeup Artist'),\n",
       " (50000000.0, 'Keepsafe Photo Vault: Hide Private Photos & Videos'),\n",
       " (50000000.0, 'InstaSize Photo Filters & Collage Editor'),\n",
       " (50000000.0, 'InstaBeauty -Makeup Selfie Cam'),\n",
       " (50000000.0, 'Boomerang from Instagram'),\n",
       " (50000000.0, 'Adobe Photoshop Express:Photo Editor Collage Maker'),\n",
       " (50000000.0, 'ASUS Gallery'),\n",
       " (10000000.0, 'Wondershare PowerCam'),\n",
       " (10000000.0, 'Sweet Snap - live filter, Selfie photo edit'),\n",
       " (10000000.0, 'Sweet Camera - Selfie Filters, Beauty Camera'),\n",
       " (10000000.0, 'Scoompa Video - Slideshow Maker and Video Editor'),\n",
       " (10000000.0, 'RetroSelfie - Selfie Editor'),\n",
       " (10000000.0, 'Retro Camera'),\n",
       " (10000000.0, 'QuickPic - Photo Gallery with Google Drive Support'),\n",
       " (10000000.0, 'Pixlr-o-matic'),\n",
       " (10000000.0, 'PixelLab - Text on pictures'),\n",
       " (10000000.0, 'PhotoScan by Google Photos'),\n",
       " (10000000.0, 'PhotoLayers〜Superimpose,Eraser'),\n",
       " (10000000.0, 'PhotoFunia'),\n",
       " (10000000.0, 'PhotoDirector Photo Editor App'),\n",
       " (10000000.0, 'Photo Studio'),\n",
       " (10000000.0, 'Photo Mixer'),\n",
       " (10000000.0, 'Photo Frames'),\n",
       " (10000000.0, 'Photo Frame'),\n",
       " (10000000.0, 'Photo Editor by BeFunky'),\n",
       " (10000000.0, 'Photo Editor'),\n",
       " (10000000.0, 'Photo Collage Maker'),\n",
       " (10000000.0, 'Photo Collage - Layout Editor'),\n",
       " (10000000.0, 'Photo Collage - InstaMag'),\n",
       " (10000000.0, 'Phonto - Text on Photos'),\n",
       " (10000000.0, 'PIP Selfie Camera Photo Editor'),\n",
       " (10000000.0, 'Open Camera'),\n",
       " (10000000.0, 'No Crop & Square for Instagram'),\n",
       " (10000000.0, 'My Photo Keyboard'),\n",
       " (10000000.0, 'Mirror Photo:Editor Collage (HD)'),\n",
       " (10000000.0, 'Meitu – Beauty Cam, Easy Photo Editor'),\n",
       " (10000000.0, 'Love Collage - Photo Editor'),\n",
       " (10000000.0, 'LightX Photo Editor & Photo Effects'),\n",
       " (10000000.0, 'HD Camera for Android'),\n",
       " (10000000.0, 'HD Camera Ultra'),\n",
       " (10000000.0, 'GoPro (formerly Capture)'),\n",
       " (10000000.0, 'Free Slideshow Maker & Video Editor'),\n",
       " (10000000.0, 'Fotor Photo Editor - Photo Collage & Photo Effects'),\n",
       " (10000000.0, 'Font Studio- Photo Texts Image'),\n",
       " (10000000.0, 'Flickr'),\n",
       " (10000000.0, 'Facejjang'),\n",
       " (10000000.0, 'FaceApp'),\n",
       " (10000000.0, 'Face Filter, Selfie Editor - Sweet Camera'),\n",
       " (10000000.0, 'EyeEm - Camera & Photo Filter'),\n",
       " (10000000.0, 'Color Touch Effects'),\n",
       " (10000000.0, 'Candy selfie - photo editor, live filter camera'),\n",
       " (10000000.0, 'Cameringo Lite. Filters Camera'),\n",
       " (10000000.0, 'Camera360 Lite - Selfie Camera'),\n",
       " (10000000.0, 'Camera for Android'),\n",
       " (10000000.0, 'Camera MX - Free Photo & Video Camera'),\n",
       " (10000000.0, 'Camera FV-5 Lite'),\n",
       " (10000000.0, 'Bokeh (Background defocus)'),\n",
       " (10000000.0, 'Blur Image Background'),\n",
       " (10000000.0, 'Bestie - Camera360 Selfie'),\n",
       " (10000000.0, 'Beauty Makeup Snappy Collage Photo Editor - Lidow'),\n",
       " (10000000.0, 'Background Eraser'),\n",
       " (10000000.0, 'AfterFocus'),\n",
       " (10000000.0, 'ASUS PixelMaster Camera'),\n",
       " (10000000.0, 'A+ Gallery - Photos & Videos'),\n",
       " (5000000.0, 'Visage Lab – face retouch'),\n",
       " (5000000.0, 'Sweet Camera'),\n",
       " (5000000.0, 'SuperPhoto - Effects & Filters'),\n",
       " (5000000.0, 'Story Saver for Instagram'),\n",
       " (5000000.0, 'Silent Camera [High Quality]'),\n",
       " (5000000.0, 'Shutterfly: Free Prints, Photo Books, Cards, Gifts'),\n",
       " (5000000.0, 'Pretty Makeup, Beauty Photo Editor & Snappy Camera'),\n",
       " (5000000.0, 'Pixgram- video photo slideshow'),\n",
       " (5000000.0, 'Picture Grid Builder'),\n",
       " (5000000.0, 'Photo Editor-'),\n",
       " (5000000.0, 'Muzy - Share photos & collages'),\n",
       " (5000000.0, 'Moto Photo Editor'),\n",
       " (5000000.0, 'MIX by Camera360'),\n",
       " (5000000.0, 'Huji Cam'),\n",
       " (5000000.0, 'High-Speed Camera (GIF,Burst)'),\n",
       " (5000000.0, 'HD Camera - Best Cam with filters & panorama'),\n",
       " (5000000.0, 'HD Camera'),\n",
       " (5000000.0, 'Ghost In Photo'),\n",
       " (5000000.0, 'Collage&Add Stickers papelook'),\n",
       " (5000000.0, 'Change photo background'),\n",
       " (5000000.0, 'Camera ZOOM FX - FREE'),\n",
       " (5000000.0, 'Blur Image Background Editor (Blur Photo Editor)'),\n",
       " (5000000.0, 'Blur Image - DSLR focus effect'),\n",
       " (5000000.0, 'Adobe Photoshop Fix'),\n",
       " (5000000.0, 'Adobe Illustrator Draw'),\n",
       " (5000000.0, 'A Better Camera'),\n",
       " (1000000.0, 'love'),\n",
       " (1000000.0, 'XDV'),\n",
       " (1000000.0, 'Waterfall Photo Frames'),\n",
       " (1000000.0, 'Video Maker with Photo and Music'),\n",
       " (1000000.0, 'Unicorn Photo'),\n",
       " (1000000.0, 'Ultimate Background Eraser'),\n",
       " (1000000.0, 'TouchNote: Cards & Gifts'),\n",
       " (1000000.0, 'Thumbnail Maker'),\n",
       " (1000000.0, 'Snapfish'),\n",
       " (1000000.0, 'Snap Cat Face Camera'),\n",
       " (1000000.0, 'Six Pack Abs Photo Editor'),\n",
       " (1000000.0, 'Selfie Photo Editor'),\n",
       " (1000000.0, 'Selfie Camera: Beauty Camera, Photo Editor,Collage'),\n",
       " (1000000.0, 'Samsung SMART CAMERA App'),\n",
       " (1000000.0, 'Pic Stitch - #1 Collage Maker'),\n",
       " (1000000.0, 'Phogy, 3D Camera'),\n",
       " (1000000.0, 'Pencil Photo Sketch-Sketching Drawing Photo Editor'),\n",
       " (1000000.0, 'Night Photo Frame'),\n",
       " (1000000.0, 'Mega Photo'),\n",
       " (1000000.0, 'Makeup Photo Editor: Makeup Camera & Makeup Editor'),\n",
       " (1000000.0, 'Makeup Editor -Beauty Photo Editor & Selfie Camera'),\n",
       " (1000000.0, 'LightMeter Free'),\n",
       " (1000000.0, 'LALALAB prints your photos, photobooks and magnets'),\n",
       " (1000000.0, 'Kids Photo Frames'),\n",
       " (1000000.0, 'KVAD Camera +: Selfie, Photo Filter, Grids'),\n",
       " (1000000.0, 'InstaCam - Camera for Selfie'),\n",
       " (1000000.0, 'Insave-Download for Instagram'),\n",
       " (1000000.0, 'Hypocam'),\n",
       " (1000000.0, 'HD Camera Pro for Android'),\n",
       " (1000000.0, 'HD Camera - silent shutter'),\n",
       " (1000000.0, 'HD Camera - Quick Snap Photo & Video'),\n",
       " (1000000.0, 'FreePrints – Free Photos Delivered'),\n",
       " (1000000.0, 'Footej Camera'),\n",
       " (1000000.0, 'FilterGrid - Cam&Photo Editor'),\n",
       " (1000000.0, 'F-Stop Gallery'),\n",
       " (1000000.0, 'Ez iCam'),\n",
       " (1000000.0, 'DSLR Camera Hd Ultra Professional'),\n",
       " (1000000.0, 'Cut Out : Background Eraser and background changer'),\n",
       " (1000000.0, 'Canon CameraWindow'),\n",
       " (1000000.0, 'Camera51 - a smarter camera'),\n",
       " (1000000.0, 'Camera Pro'),\n",
       " (1000000.0, 'Blur'),\n",
       " (1000000.0, 'Beauty Makeup – Photo Makeover'),\n",
       " (1000000.0, 'BQ Camera'),\n",
       " (1000000.0, 'Auto Background Changer'),\n",
       " (1000000.0, 'Afterlight'),\n",
       " (1000000.0, 'Add Watermark Free'),\n",
       " (1000000.0, 'Add Text To Photo'),\n",
       " (500000.0, 'easyFocus'),\n",
       " (500000.0, 'camera zoom moon'),\n",
       " (500000.0, 'U Camera : Phone 6s OS 9 style'),\n",
       " (500000.0, 'Sweet Snap Lite - live filter, Selfie photo editor'),\n",
       " (500000.0, 'How Do I Look'),\n",
       " (500000.0, 'Groovebook Photo Books & Gifts'),\n",
       " (500000.0, 'Garden Photo Frames - Garden Photo Editor'),\n",
       " (500000.0, 'DU GIF Maker: GIF Maker, Video to GIF & GIF Editor'),\n",
       " (500000.0, 'Brica BPRO5 AE'),\n",
       " (500000.0, 'Blurfoto : Auto blur photo background & DSLR focus'),\n",
       " (500000.0, 'Background Changer & Eraser'),\n",
       " (500000.0, 'BT Camera'),\n",
       " (100000.0, 'ez Share Android app'),\n",
       " (100000.0, 'V.360° Camera'),\n",
       " (100000.0, 'SportLook'),\n",
       " (100000.0, 'Picai - Smart AI Camera'),\n",
       " (100000.0, 'Photo frame'),\n",
       " (100000.0, 'Gold Teeth Photo Editor'),\n",
       " (100000.0, 'Fifa World Cup 2018: Photo Frame Editor & DP Maker'),\n",
       " (100000.0, 'DU Collage Maker - Photo Collage & Grid & Layout'),\n",
       " (100000.0, 'DSLR Photography Training apps'),\n",
       " (100000.0, 'DP Maker'),\n",
       " (100000.0, 'DP Creator for WhatsApp'),\n",
       " (100000.0, 'Cover Camera for FB'),\n",
       " (100000.0, 'Camera V7 24 Megapixel'),\n",
       " (100000.0, 'Black & White Camera - Lovely BW'),\n",
       " (100000.0, 'B Tiff Viewer'),\n",
       " (100000.0, 'AZ Camera - Manual Pro Cam'),\n",
       " (100000.0, '4K Ultra Camera'),\n",
       " (100000.0, '24 megapixel hd camera'),\n",
       " (50000.0, 'Wifi Action Camera'),\n",
       " (50000.0, 'Moony Lab - Print Photos, Books & Magnets ™'),\n",
       " (50000.0, 'DV Lottery Photo Tool'),\n",
       " (50000.0, 'DP Status 2017'),\n",
       " (50000.0, 'BlitzWolf Shutter - BW Shutter'),\n",
       " (50000.0, 'B&W Photo Filter Editor'),\n",
       " (10000.0, 'Z Camera'),\n",
       " (10000.0, 'Square DP For Whatsapp'),\n",
       " (10000.0, 'Profile w/o crop for Telegram'),\n",
       " (10000.0, 'Night Camera Blur Effect'),\n",
       " (10000.0, 'Leica Q'),\n",
       " (10000.0, 'FN Cam'),\n",
       " (10000.0, 'FH WiFiCam'),\n",
       " (10000.0, 'DSLR camera - Auto Focus and Blur Professional'),\n",
       " (10000.0, 'DP Photo Editor'),\n",
       " (10000.0, 'DF Night Selfies'),\n",
       " (10000.0, 'DENVER ACTION CAM 3'),\n",
       " (10000.0, 'Be Fabulous PHOTO BOOTH'),\n",
       " (10000.0, 'BL 1-Click Camera - Free'),\n",
       " (5000.0, 'Insta Square Profile DP'),\n",
       " (5000.0, 'FL Drone 2'),\n",
       " (5000.0, 'DP Editor'),\n",
       " (5000.0, 'CB Edits PNG & CB Backgrounds'),\n",
       " (1000.0, 'Photo Editor - BPhoto'),\n",
       " (1000.0, 'Photo BG Changer'),\n",
       " (1000.0, 'PIP-Camera FN Photo Effect'),\n",
       " (1000.0, 'Magical Insta DP'),\n",
       " (1000.0, 'Live DV'),\n",
       " (1000.0, 'Light Meter - EV'),\n",
       " (1000.0, 'Leica CL'),\n",
       " (1000.0, 'FB Photographie'),\n",
       " (1000.0, 'Dp For FB'),\n",
       " (1000.0, 'DV-4036 by Somikon'),\n",
       " (1000.0, 'DS-L4 Viewer'),\n",
       " (1000.0, 'BK Photography'),\n",
       " (1000.0, 'Auto Dslr Photo Effect : Auto Focus Effect'),\n",
       " (1000.0, 'All Types DP & Status Maker'),\n",
       " (1000.0, 'AEE AP'),\n",
       " (500.0, 'Selfie With Champion AJ Style'),\n",
       " (500.0, 'DC-014'),\n",
       " (500.0, 'CB Hair Png - New Hair Png For CB Editing'),\n",
       " (500.0, 'BC Camera'),\n",
       " (500.0, 'AI Image Recognizer (beta)'),\n",
       " (100.0, 'Wallpaper.cz'),\n",
       " (100.0, 'LC-DB-LITE'),\n",
       " (100.0, 'FD Fotografia'),\n",
       " (100.0, 'DV KING 4K'),\n",
       " (100.0, 'DV KING'),\n",
       " (100.0, 'CG Prints'),\n",
       " (100.0, 'CB VIDEO VISION'),\n",
       " (100.0, 'Blender BG - Photo Blend With Background'),\n",
       " (100.0, 'BL Portfolio'),\n",
       " (100.0, 'Analog BW - Camera filter effect foto film retouch'),\n",
       " (100.0, 'AJ Cam'),\n",
       " (100.0, 'A.J. Styles HD Wallpapers 2018'),\n",
       " (50.0, 'Touch DV'),\n",
       " (50.0, 'Displaying You VR'),\n",
       " (10.0, 'i am EB'),\n",
       " (5.0, 'BG Editor')]"
      ]
     },
     "execution_count": 124,
     "metadata": {},
     "output_type": "execute_result"
    }
   ],
   "source": [
    "photography_list = []\n",
    "\n",
    "\n",
    "for x in android_free:\n",
    "    if x[1] == 'PHOTOGRAPHY':\n",
    "        n_installs = x[5]\n",
    "        n_installs = n_installs.replace(',', '')\n",
    "        n_installs = n_installs.replace('+', '') \n",
    "        n_installs = float(n_installs)\n",
    "        to_append = (n_installs,x[0])\n",
    "        photography_list.append(to_append)\n",
    "        \n",
    "        \n",
    "sorted(photography_list, reverse = True)\n",
    "        "
   ]
  },
  {
   "cell_type": "markdown",
   "metadata": {},
   "source": [
    "After reviewing the top Photography apps, it can be determined that the ones with the higher reviews consist of either post-photo editors, or apps that can control the device camera to set it differently than default"
   ]
  },
  {
   "cell_type": "markdown",
   "metadata": {},
   "source": [
    "CONCLUSION \n",
    "\n",
    "After analyzing the results, we can recommend to developers to create a photo-editing app or camera control app, to find a niche in the market that can satisfy a target customer base. Whether it is to emulate a certain style of photography that is popular, or to ease post-photo editing in creating better pictures, albums or collages.\n",
    "\n",
    "The study has confirmed that there are a lot of potential revenue in the photography app space. With high average downloads for free applications, in-app purchases be a viable business model for these type of applications."
   ]
  }
 ],
 "metadata": {
  "kernelspec": {
   "display_name": "Python 3",
   "language": "python",
   "name": "python3"
  },
  "language_info": {
   "codemirror_mode": {
    "name": "ipython",
    "version": 3
   },
   "file_extension": ".py",
   "mimetype": "text/x-python",
   "name": "python",
   "nbconvert_exporter": "python",
   "pygments_lexer": "ipython3",
   "version": "3.7.6"
  }
 },
 "nbformat": 4,
 "nbformat_minor": 2
}
